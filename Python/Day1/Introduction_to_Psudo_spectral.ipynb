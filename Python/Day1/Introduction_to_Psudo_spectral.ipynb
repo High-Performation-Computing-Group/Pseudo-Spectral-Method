{
 "cells": [
  {
   "cell_type": "markdown",
   "id": "2ae4a354-0cf7-4052-a4cd-09542444ace6",
   "metadata": {},
   "source": [
    "# Introduction to fourior transformation"
   ]
  },
  {
   "cell_type": "markdown",
   "id": "3c0e6765-0768-4e39-8c48-a6b7819f4e40",
   "metadata": {},
   "source": [
    "for the illustation pourpose we will use descrete points and apply fourior transformation i.e. approximation these descrite variable as function and approximating using fourior expansion and then we will invert this to get back our original descrete variables and check accuracy "
   ]
  },
  {
   "cell_type": "markdown",
   "id": "0066cf79-e5df-4da3-a01f-d9bdec30d91f",
   "metadata": {},
   "source": [
    "$y[k] = \\Sigma_{x=0}^{N-1}\\exp^{-2\\pi j\\frac{kn}{n}}y[k]$"
   ]
  },
  {
   "cell_type": "code",
   "execution_count": 5,
   "id": "ad9d239e-999a-4fee-bc1c-768b286ff200",
   "metadata": {},
   "outputs": [
    {
     "data": {
      "text/plain": [
       "array([55. -0.j        , -5.+15.38841769j, -5. +6.8819096j ,\n",
       "       -5. +3.63271264j, -5. +1.62459848j, -5. -0.j        ,\n",
       "       -5. -1.62459848j, -5. -3.63271264j, -5. -6.8819096j ,\n",
       "       -5.-15.38841769j])"
      ]
     },
     "execution_count": 5,
     "metadata": {},
     "output_type": "execute_result"
    }
   ],
   "source": [
    "import numpy as np\n",
    "from scipy.fft import fft ,ifft\n",
    "x=[1,2,3,4,5,6,7,8,9,10]\n",
    "y=fft(x)\n",
    "y\n",
    "\n"
   ]
  },
  {
   "cell_type": "code",
   "execution_count": 6,
   "id": "6e249ae4-dfdf-46f7-8463-73947122be65",
   "metadata": {},
   "outputs": [
    {
     "data": {
      "text/plain": [
       "10"
      ]
     },
     "execution_count": 6,
     "metadata": {},
     "output_type": "execute_result"
    }
   ],
   "source": [
    "len(y)"
   ]
  },
  {
   "cell_type": "code",
   "execution_count": 4,
   "id": "4e9583dc-6a7d-4dde-8881-0ae4f3ee85f5",
   "metadata": {},
   "outputs": [
    {
     "data": {
      "text/plain": [
       "array([ 1.+0.j,  2.+0.j,  3.+0.j,  4.+0.j,  5.+0.j,  6.+0.j,  7.+0.j,\n",
       "        8.+0.j,  9.+0.j, 10.+0.j])"
      ]
     },
     "execution_count": 4,
     "metadata": {},
     "output_type": "execute_result"
    }
   ],
   "source": [
    "yinv=ifft(y)\n",
    "yinv"
   ]
  }
 ],
 "metadata": {
  "kernelspec": {
   "display_name": "Python 3",
   "language": "python",
   "name": "python3"
  },
  "language_info": {
   "codemirror_mode": {
    "name": "ipython",
    "version": 3
   },
   "file_extension": ".py",
   "mimetype": "text/x-python",
   "name": "python",
   "nbconvert_exporter": "python",
   "pygments_lexer": "ipython3",
   "version": "3.8.8"
  }
 },
 "nbformat": 4,
 "nbformat_minor": 5
}
