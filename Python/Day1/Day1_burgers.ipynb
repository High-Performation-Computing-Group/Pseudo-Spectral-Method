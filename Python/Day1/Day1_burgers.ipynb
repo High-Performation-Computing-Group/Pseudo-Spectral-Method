{
 "cells": [
  {
   "cell_type": "code",
   "execution_count": 2,
   "id": "9d9d6756-a271-47cd-a6e7-ec2c6a1eb20c",
   "metadata": {},
   "outputs": [],
   "source": [
    "from IPython.display import display,Math,Latex\n",
    "import numpy as np\n"
   ]
  },
  {
   "cell_type": "markdown",
   "id": "14608638-d775-4fd8-a727-668cefcb1a32",
   "metadata": {},
   "source": [
    "# Fourier Galerkin(FG)\n"
   ]
  },
  {
   "cell_type": "markdown",
   "id": "ff4f928f-6b47-4f7f-8b79-2b5727702e98",
   "metadata": {},
   "source": [
    "Here we approximate a function in the form of summation of periodic function of different frequency\n",
    "\n"
   ]
  },
  {
   "cell_type": "markdown",
   "id": "b80b0e84-3694-4d35-a5d9-859ccab8a783",
   "metadata": {
    "tags": []
   },
   "source": [
    "# $u=\\sum_{k=-\\infty}^\\infty\\hat{u}e^{ikx} \\approx U = \\sum_{k=-\\frac{N}{2}}^\\frac N2 a_ke^{ikx} $\n"
   ]
  },
  {
   "cell_type": "markdown",
   "id": "a7262f9f-b80f-416b-9c6b-b3982ea47095",
   "metadata": {},
   "source": [
    "###### A basic example of Fourier Transformer to demostrate level of accuracy it have.\n",
    "For that we will first define some randome varible and take the fourier transformer and then take inverse fourier transform of that and let's see what the result it,Wether it is same of what variable we have or different form it "
   ]
  },
  {
   "cell_type": "code",
   "execution_count": 3,
   "id": "76e8964c-3692-4fb1-9ca9-c5155e5aa1cc",
   "metadata": {},
   "outputs": [
    {
     "data": {
      "text/plain": [
       "array([[4.86175858, 5.20918391, 7.24530815, 6.64816908, 3.97804581,\n",
       "        6.92605144, 3.51727489, 7.99944255, 1.01383333, 2.12059508]])"
      ]
     },
     "execution_count": 3,
     "metadata": {},
     "output_type": "execute_result"
    }
   ],
   "source": [
    "import matplotlib.pyplot as plt\n",
    "import scipy.fftpack as sci\n",
    "U=10*np.random.rand(1,10)         #declearing randome 1-D array of size 10\n",
    "U                              #printing U\n",
    "\n",
    "\n",
    "\n"
   ]
  },
  {
   "cell_type": "code",
   "execution_count": 4,
   "id": "6caf29b9-f2ba-473c-8777-47299cebf02b",
   "metadata": {},
   "outputs": [
    {
     "data": {
      "text/plain": [
       "array([[49.51966284-0.j        , -4.17236476-6.72760862j,\n",
       "        -2.16293479-6.95623096j,  3.15524327-0.50713134j,\n",
       "         6.87262842+5.66702956j, -8.2872213 -0.j        ,\n",
       "         6.87262842-5.66702956j,  3.15524327+0.50713134j,\n",
       "        -2.16293479+6.95623096j, -4.17236476+6.72760862j]])"
      ]
     },
     "execution_count": 4,
     "metadata": {},
     "output_type": "execute_result"
    }
   ],
   "source": [
    "Uinv=sci.fft(U)              #taking fourier transform\n",
    "Uinv                         #printing Uinv"
   ]
  },
  {
   "cell_type": "code",
   "execution_count": 5,
   "id": "0260b122-2e0e-4607-b410-75c7431b0891",
   "metadata": {},
   "outputs": [],
   "source": [
    "U_resored=(sci.ifft(Uinv)).real      #taking inverse fourier transform"
   ]
  },
  {
   "cell_type": "code",
   "execution_count": 6,
   "id": "7eed8b3a-8edd-45c0-a134-cf299a0c5f78",
   "metadata": {},
   "outputs": [
    {
     "data": {
      "text/plain": [
       "array([[4.86175858, 5.20918391, 7.24530815, 6.64816908, 3.97804581,\n",
       "        6.92605144, 3.51727489, 7.99944255, 1.01383333, 2.12059508]])"
      ]
     },
     "execution_count": 6,
     "metadata": {},
     "output_type": "execute_result"
    }
   ],
   "source": [
    "U_resored"
   ]
  },
  {
   "cell_type": "code",
   "execution_count": 7,
   "id": "d6060bf6-1679-476f-8fcc-d14421e165c1",
   "metadata": {},
   "outputs": [
    {
     "data": {
      "text/plain": [
       "(8.881784197001252e-16, -1.7763568394002505e-15)"
      ]
     },
     "execution_count": 7,
     "metadata": {},
     "output_type": "execute_result"
    }
   ],
   "source": [
    "Error=U-U_resored                #error calculation for accuracy mesurement\n",
    "Error.max(),Error.min()          #maximum and minimum error"
   ]
  },
  {
   "cell_type": "markdown",
   "id": "b78bfb7e-fc28-4d3a-994a-0edc36476df2",
   "metadata": {},
   "source": [
    "So we can see that after taking inverse of fourior transformation of some random variables which is not governed by any function they are juct random we get error tending to zero"
   ]
  },
  {
   "cell_type": "markdown",
   "id": "d5e1a7dc-31c7-4ca9-b308-5030d1e90642",
   "metadata": {},
   "source": [
    "### Now we will sove burgers' equation using Pseuso spectral methode"
   ]
  },
  {
   "cell_type": "markdown",
   "id": "f72ee958-c67f-4a4a-a0d6-b3b343009a01",
   "metadata": {},
   "source": [
    "#### Burgers' Equation \n"
   ]
  },
  {
   "cell_type": "markdown",
   "id": "1d09e026-2708-449f-b5e7-ccfaf5bffc2a",
   "metadata": {},
   "source": [
    "# $$ \\frac{\\partial u}{\\partial t} + u \\frac{\\partial u}{\\partial x}=\\nu \\frac{\\partial^2 u}{\\partial x^2} $$"
   ]
  },
  {
   "cell_type": "code",
   "execution_count": 66,
   "id": "fad29203-0bc4-4038-80f6-d51a7e9184d6",
   "metadata": {},
   "outputs": [
    {
     "data": {
      "text/plain": [
       "array([0.00000000e+00, 6.14192112e-03, 1.22838422e-02, ...,\n",
       "       6.27090146e+00, 6.27704339e+00, 6.28318531e+00])"
      ]
     },
     "execution_count": 66,
     "metadata": {},
     "output_type": "execute_result"
    }
   ],
   "source": [
    "N=1024\n",
    "t_min=0.00\n",
    "t_max=2.00\n",
    "dt=.000100\n",
    "mu=0.000\n",
    "a=2*np.pi\n",
    "x=np.linspace(0,a,1024)\n",
    "x\n"
   ]
  },
  {
   "cell_type": "code",
   "execution_count": 67,
   "id": "636ab55b-28ee-44f5-aef8-6f8ba3b57dc7",
   "metadata": {},
   "outputs": [
    {
     "data": {
      "text/plain": [
       "array([ 0.00000000e+00,  6.14188251e-03,  1.22835333e-02, ...,\n",
       "       -1.22835333e-02, -6.14188251e-03, -2.44929360e-16])"
      ]
     },
     "execution_count": 67,
     "metadata": {},
     "output_type": "execute_result"
    }
   ],
   "source": [
    "UX=np.sin(x)\n",
    "UX"
   ]
  },
  {
   "cell_type": "code",
   "execution_count": 68,
   "id": "ae2d51e8-c399-468e-9f40-74ed8f56782f",
   "metadata": {},
   "outputs": [],
   "source": [
    "duk=np.ones(1024,dtype=complex)\n",
    "dduk=np.ones(1024,dtype=complex)\n",
    "force_u_n=np.zeros(1024,dtype=float)\n",
    "# force_u_o=np.zeros(1024)\n",
    "\n"
   ]
  },
  {
   "cell_type": "code",
   "execution_count": 55,
   "id": "8bad87be-a6e9-40d1-a741-37425428d5cb",
   "metadata": {},
   "outputs": [
    {
     "data": {
      "text/plain": [
       "<matplotlib.collections.PathCollection at 0x1ff4f33fc70>"
      ]
     },
     "execution_count": 55,
     "metadata": {},
     "output_type": "execute_result"
    },
    {
     "data": {
      "image/png": "[encoded data removed]",
      "text/plain": [
       "<Figure size 432x288 with 1 Axes>"
      ]
     },
     "metadata": {
      "needs_background": "light"
     },
     "output_type": "display_data"
    }
   ],
   "source": [
    "for o in range(1,17000):\n",
    "    Uk=sci.fft(UX)\n",
    "    c=complex(0,1)\n",
    "    for i in range(0,N):\n",
    "        k=2.0*(np.pi)*float(i)/a\n",
    "        duk[i]=c*k*Uk[i]\n",
    "    dux=(sci.ifft(duk)).real\n",
    "    for i in range(0,N):\n",
    "        dux[i]=dux[i]/float(N)\n",
    "        ddux[i]=ddux[i]/float(N)\n",
    "        force_u_n[i]=UX[i]*dux[i]\n",
    "        if(o==1):\n",
    "            UX[i]=UX[i]+dt*force_u_n[i]\n",
    "        else:\n",
    "            UX[i]=UX[i]+dt*((3.0/2.0)*force_u_n[i]-(1.0/2.0)*force_u_o[i])\n",
    "    force_u_o=force_u_n\n",
    "\n",
    "plt.scatter(x,UX,label= \"stars\", color= \"blue\",\n",
    "            marker= \".\", s=1)"
   ]
  },
  {
   "cell_type": "code",
   "execution_count": 33,
   "id": "991a2d41-3542-4b07-b5b2-a2bce748f448",
   "metadata": {},
   "outputs": [
    {
     "data": {
      "text/plain": [
       "[<matplotlib.lines.Line2D at 0x1ff4f0ab940>]"
      ]
     },
     "execution_count": 33,
     "metadata": {},
     "output_type": "execute_result"
    },
    {
     "data": {
      "image/png": "[encoded data removed]",
      "text/plain": [
       "<Figure size 432x288 with 1 Axes>"
      ]
     },
     "metadata": {
      "needs_background": "light"
     },
     "output_type": "display_data"
    }
   ],
   "source": [
    "plt.plot(UX)"
   ]
  },
  {
   "cell_type": "code",
   "execution_count": 13,
   "id": "9349483c-9889-4626-874a-39bf5c9ddadb",
   "metadata": {},
   "outputs": [
    {
     "data": {
      "text/plain": [
       "array([-6.93889390e-18,  1.50311881e-08,  5.20850904e-08, ...,\n",
       "       -5.20946340e-08, -1.50327880e-08, -2.54353830e-16])"
      ]
     },
     "execution_count": 13,
     "metadata": {},
     "output_type": "execute_result"
    }
   ],
   "source": [
    "UX_restored=sci.ifft(Uk).real\n",
    "UX_restored"
   ]
  },
  {
   "cell_type": "code",
   "execution_count": 56,
   "id": "526b42b4-38f7-45c9-a869-7d580aba0ace",
   "metadata": {},
   "outputs": [
    {
     "data": {
      "text/plain": [
       "[<matplotlib.lines.Line2D at 0x1ff50369550>]"
      ]
     },
     "execution_count": 56,
     "metadata": {},
     "output_type": "execute_result"
    },
    {
     "data": {
      "image/png": "[encoded data removed]",
      "text/plain": [
       "<Figure size 432x288 with 1 Axes>"
      ]
     },
     "metadata": {
      "needs_background": "light"
     },
     "output_type": "display_data"
    }
   ],
   "source": [
    "plt.plot(UX)\n",
    "plt.plot(UX2)\n"
   ]
  },
  {
   "cell_type": "code",
   "execution_count": 69,
   "id": "c011e9c3-e62f-41b9-9587-7be715a0c089",
   "metadata": {},
   "outputs": [
    {
     "data": {
      "text/plain": [
       "<matplotlib.collections.PathCollection at 0x1ff50483160>"
      ]
     },
     "execution_count": 69,
     "metadata": {},
     "output_type": "execute_result"
    },
    {
     "data": {
      "image/png": "[encoded data removed]",
      "text/plain": [
       "<Figure size 432x288 with 1 Axes>"
      ]
     },
     "metadata": {
      "needs_background": "light"
     },
     "output_type": "display_data"
    }
   ],
   "source": [
    "# # proposed correction subjected to verification\n",
    "for o in range(1,6000):\n",
    "    Uk=sci.fft(UX)\n",
    "    c=complex(0,1)\n",
    "    for i in range(0,N):\n",
    "#         k=2.0*(np.pi)*float(i)/a\n",
    "        if i <= N/2:\n",
    "            k=2.00*(np.pi)*float(i)/a\n",
    "        else:\n",
    "            k=2.00*(np.pi)*float(i-N)/a\n",
    "        duk[i]=c*k*Uk[i]\n",
    "    dux=(sci.ifft(duk)).real\n",
    "    for i in range(0,N):\n",
    "#         dux[i]=dux[i]/float(N)\n",
    "#         ddux[i]=ddux[i]/float(N)\n",
    "        force_u_n[i]=-UX[i]*dux[i]\n",
    "        if(o==1):\n",
    "            UX[i]=UX[i]+dt*force_u_n[i]\n",
    "        else:\n",
    "            UX[i]=UX[i]+dt*((3.0/2.0)*force_u_n[i]-(1.0/2.0)*force_u_o[i])\n",
    "    force_u_o=force_u_n\n",
    "\n",
    "plt.scatter(x,UX,label= \"stars\", color= \"blue\",\n",
    "            marker= \".\", s=1)"
   ]
  },
  {
   "cell_type": "code",
   "execution_count": null,
   "id": "1c0f60c7-5491-4162-8257-948bfc0e33cc",
   "metadata": {},
   "outputs": [],
   "source": []
  }
 ],
 "metadata": {
  "kernelspec": {
   "display_name": "Python 3",
   "language": "python",
   "name": "python3"
  },
  "language_info": {
   "codemirror_mode": {
    "name": "ipython",
    "version": 3
   },
   "file_extension": ".py",
   "mimetype": "text/x-python",
   "name": "python",
   "nbconvert_exporter": "python",
   "pygments_lexer": "ipython3",
   "version": "3.8.8"
  }
 },
 "nbformat": 4,
 "nbformat_minor": 5
}
