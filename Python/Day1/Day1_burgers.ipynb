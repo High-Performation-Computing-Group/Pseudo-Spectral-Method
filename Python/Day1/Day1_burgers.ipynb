{
 "cells": [
  {
   "cell_type": "code",
   "execution_count": 3,
   "id": "9d9d6756-a271-47cd-a6e7-ec2c6a1eb20c",
   "metadata": {},
   "outputs": [],
   "source": [
    "from IPython.display import display,Math,Latex\n",
    "import numpy as np\n"
   ]
  },
  {
   "cell_type": "markdown",
   "id": "14608638-d775-4fd8-a727-668cefcb1a32",
   "metadata": {},
   "source": [
    "# Fourier Galerkin(FG)\n"
   ]
  },
  {
   "cell_type": "markdown",
   "id": "ff4f928f-6b47-4f7f-8b79-2b5727702e98",
   "metadata": {},
   "source": [
    "Here we approximate a function in the form of summation of periodic function of different frequency\n",
    "\n"
   ]
  },
  {
   "cell_type": "markdown",
   "id": "b80b0e84-3694-4d35-a5d9-859ccab8a783",
   "metadata": {
    "tags": []
   },
   "source": [
    "# $u=\\sum_{k=-\\infty}^\\infty\\hat{u}e^{ikx} \\approx U = \\sum_{k=-\\frac{N}{2}}^\\frac N2 a_ke^{ikx} $\n"
   ]
  },
  {
   "cell_type": "markdown",
   "id": "a7262f9f-b80f-416b-9c6b-b3982ea47095",
   "metadata": {},
   "source": [
    "###### A basic example of Fourier Transformer to demostrate level of accuracy it have.\n",
    "For that we will first define some randome varible and take the fourier transformer and then take inverse fourier transform of that and let's see what the result it,Wether it is same of what variable we have or different form it "
   ]
  },
  {
   "cell_type": "code",
   "execution_count": 89,
   "id": "76e8964c-3692-4fb1-9ca9-c5155e5aa1cc",
   "metadata": {},
   "outputs": [
    {
     "data": {
      "text/plain": [
       "array([[1.96860042, 6.4954601 , 3.72300046, 7.7745094 , 0.64633275,\n",
       "        1.85172974, 7.4919052 , 9.77656279, 9.23045604, 2.56150026]])"
      ]
     },
     "execution_count": 89,
     "metadata": {},
     "output_type": "execute_result"
    }
   ],
   "source": [
    "import matplotlib.pyplot as plt\n",
    "import scipy.fftpack as sci\n",
    "U=10*np.random.rand(1,10)         #declearing randome 1-D array of size 10\n",
    "U                              #printing U\n",
    "\n",
    "\n",
    "\n"
   ]
  },
  {
   "cell_type": "code",
   "execution_count": 90,
   "id": "6caf29b9-f2ba-473c-8777-47299cebf02b",
   "metadata": {},
   "outputs": [
    {
     "data": {
      "text/plain": [
       "array([[ 51.52005715-0.j        ,  -0.56060867+8.85337038j,\n",
       "        -15.54474346-8.19152071j,   3.55251907-1.64487047j,\n",
       "         -0.66445972-9.66988569j,  -5.39946743-0.j        ,\n",
       "         -0.66445972+9.66988569j,   3.55251907+1.64487047j,\n",
       "        -15.54474346+8.19152071j,  -0.56060867-8.85337038j]])"
      ]
     },
     "execution_count": 90,
     "metadata": {},
     "output_type": "execute_result"
    }
   ],
   "source": [
    "Uinv=sci.fft(U)              #taking fourier transform\n",
    "Uinv                         #printing Uinv"
   ]
  },
  {
   "cell_type": "code",
   "execution_count": 91,
   "id": "0260b122-2e0e-4607-b410-75c7431b0891",
   "metadata": {},
   "outputs": [],
   "source": [
    "U_resored=(sci.ifft(Uinv)).real      #taking inverse fourier transform"
   ]
  },
  {
   "cell_type": "code",
   "execution_count": 92,
   "id": "7eed8b3a-8edd-45c0-a134-cf299a0c5f78",
   "metadata": {},
   "outputs": [
    {
     "data": {
      "text/plain": [
       "array([[1.96860042, 6.4954601 , 3.72300046, 7.7745094 , 0.64633275,\n",
       "        1.85172974, 7.4919052 , 9.77656279, 9.23045604, 2.56150026]])"
      ]
     },
     "execution_count": 92,
     "metadata": {},
     "output_type": "execute_result"
    }
   ],
   "source": [
    "U_resored"
   ]
  },
  {
   "cell_type": "code",
   "execution_count": 93,
   "id": "d6060bf6-1679-476f-8fcc-d14421e165c1",
   "metadata": {},
   "outputs": [
    {
     "data": {
      "text/plain": [
       "(0.0, -1.9984014443252818e-15)"
      ]
     },
     "execution_count": 93,
     "metadata": {},
     "output_type": "execute_result"
    }
   ],
   "source": [
    "Error=U-U_resored                #error calculation for accuracy mesurement\n",
    "Error.max(),Error.min()          #maximum and minimum error"
   ]
  },
  {
   "cell_type": "markdown",
   "id": "b78bfb7e-fc28-4d3a-994a-0edc36476df2",
   "metadata": {},
   "source": [
    "So we can see that after taking inverse of fourior transformation of some random variables which is not governed by any function they are juct random we get error tending to zero"
   ]
  },
  {
   "cell_type": "markdown",
   "id": "d5e1a7dc-31c7-4ca9-b308-5030d1e90642",
   "metadata": {},
   "source": [
    "### Now we will sove burgers' equation using Pseuso spectral methode"
   ]
  },
  {
   "cell_type": "markdown",
   "id": "f72ee958-c67f-4a4a-a0d6-b3b343009a01",
   "metadata": {},
   "source": [
    "#### Burgers' Equation \n"
   ]
  },
  {
   "cell_type": "markdown",
   "id": "1d09e026-2708-449f-b5e7-ccfaf5bffc2a",
   "metadata": {},
   "source": [
    "# $$ \\frac{\\partial u}{\\partial t} + u \\frac{\\partial u}{\\partial x}=\\nu \\frac{\\partial^2 u}{\\partial x^2} $$"
   ]
  },
  {
   "cell_type": "code",
   "execution_count": 94,
   "id": "fad29203-0bc4-4038-80f6-d51a7e9184d6",
   "metadata": {},
   "outputs": [
    {
     "data": {
      "text/plain": [
       "array([0.00000000e+00, 6.14192112e-03, 1.22838422e-02, ...,\n",
       "       6.27090146e+00, 6.27704339e+00, 6.28318531e+00])"
      ]
     },
     "execution_count": 94,
     "metadata": {},
     "output_type": "execute_result"
    }
   ],
   "source": [
    "N=1024\n",
    "t_min=0.00\n",
    "t_max=2.00\n",
    "dt=.000100\n",
    "mu=0.0\n",
    "a=2*np.pi\n",
    "x=np.linspace(0,a,1024)\n",
    "x\n"
   ]
  },
  {
   "cell_type": "code",
   "execution_count": 95,
   "id": "636ab55b-28ee-44f5-aef8-6f8ba3b57dc7",
   "metadata": {},
   "outputs": [
    {
     "data": {
      "text/plain": [
       "array([ 0.00000000e+00,  6.14188251e-03,  1.22835333e-02, ...,\n",
       "       -1.22835333e-02, -6.14188251e-03, -2.44929360e-16])"
      ]
     },
     "execution_count": 95,
     "metadata": {},
     "output_type": "execute_result"
    }
   ],
   "source": [
    "UX=np.sin(x)\n",
    "UX"
   ]
  },
  {
   "cell_type": "code",
   "execution_count": 96,
   "id": "ae2d51e8-c399-468e-9f40-74ed8f56782f",
   "metadata": {},
   "outputs": [],
   "source": [
    "duk=np.ones(1024,dtype=complex)\n",
    "dduk=np.ones(1024,dtype=complex)\n",
    "force_u_n=np.zeros(1024,dtype=float)\n",
    "# force_u_o=np.zeros(1024)\n",
    "\n"
   ]
  },
  {
   "cell_type": "code",
   "execution_count": 100,
   "id": "8bad87be-a6e9-40d1-a741-37425428d5cb",
   "metadata": {},
   "outputs": [
    {
     "data": {
      "text/plain": [
       "array([ 0.00000000e+00,  1.98263595e-06,  5.61415844e-06, ...,\n",
       "       -5.61458036e-06, -1.98272276e-06, -2.44929360e-16])"
      ]
     },
     "execution_count": 100,
     "metadata": {},
     "output_type": "execute_result"
    }
   ],
   "source": [
    "for o in range(1,2000):\n",
    "    Uk=sci.fft(UX)\n",
    "    c=complex(0,1)\n",
    "    for i in range(0,1023):\n",
    "        k=2.0*(np.pi)*float(i)/a\n",
    "        duk[i]=c*k*Uk[i]\n",
    "        dduk[i]=-k*k*Uk[i]\n",
    "    dux=(sci.ifft(duk)).real\n",
    "    ddux=(sci.ifft(dduk)).real\n",
    "    for i in range(0,1023):\n",
    "        force_u_n[i]=-UX[i]*dux[i]+mu*ddux[i]\n",
    "        if(o==1):\n",
    "            UX[i]=UX[i]+dt*force_u_n[i]\n",
    "        else:\n",
    "            UX[i]=UX[i]+dt*((3.0/2.0)*force_u_n[i]-(1.0/2.0)*force_u_o[i])\n",
    "    force_u_o=force_u_n\n",
    "UX\n"
   ]
  },
  {
   "cell_type": "code",
   "execution_count": 101,
   "id": "991a2d41-3542-4b07-b5b2-a2bce748f448",
   "metadata": {},
   "outputs": [
    {
     "data": {
      "text/plain": [
       "[<matplotlib.lines.Line2D at 0x25c9479a4f0>]"
      ]
     },
     "execution_count": 101,
     "metadata": {},
     "output_type": "execute_result"
    },
    {
     "data": {
      "image/png": "[encoded data removed]",
      "text/plain": [
       "<Figure size 432x288 with 1 Axes>"
      ]
     },
     "metadata": {
      "needs_background": "light"
     },
     "output_type": "display_data"
    }
   ],
   "source": [
    "plt.plot(UX)"
   ]
  },
  {
   "cell_type": "code",
   "execution_count": 102,
   "id": "9349483c-9889-4626-874a-39bf5c9ddadb",
   "metadata": {},
   "outputs": [
    {
     "data": {
      "text/plain": [
       "array([-2.16840434e-19,  1.98738136e-06,  5.62704382e-06, ...,\n",
       "       -5.62746648e-06, -1.98746834e-06, -1.71737624e-16])"
      ]
     },
     "execution_count": 102,
     "metadata": {},
     "output_type": "execute_result"
    }
   ],
   "source": [
    "UX_restored=sci.ifft(Uk).real\n",
    "UX_restored"
   ]
  },
  {
   "cell_type": "code",
   "execution_count": null,
   "id": "526b42b4-38f7-45c9-a869-7d580aba0ace",
   "metadata": {},
   "outputs": [],
   "source": []
  }
 ],
 "metadata": {
  "kernelspec": {
   "display_name": "Python 3",
   "language": "python",
   "name": "python3"
  },
  "language_info": {
   "codemirror_mode": {
    "name": "ipython",
    "version": 3
   },
   "file_extension": ".py",
   "mimetype": "text/x-python",
   "name": "python",
   "nbconvert_exporter": "python",
   "pygments_lexer": "ipython3",
   "version": "3.8.8"
  }
 },
 "nbformat": 4,
 "nbformat_minor": 5
}
