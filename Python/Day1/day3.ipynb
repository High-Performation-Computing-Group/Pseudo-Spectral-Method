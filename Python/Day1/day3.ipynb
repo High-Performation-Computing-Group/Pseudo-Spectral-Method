{
 "cells": [
  {
   "cell_type": "code",
   "execution_count": 62,
   "id": "cdd7bf67-eec8-416f-aec3-c8d0ac6c34e5",
   "metadata": {},
   "outputs": [],
   "source": [
    "from IPython.display import display,Math,Latex\n",
    "import numpy as np\n",
    "from mpl_toolkits import mplot3d\n",
    "\n",
    "import matplotlib.pyplot as plt\n",
    "import scipy.fftpack as sci"
   ]
  },
  {
   "cell_type": "code",
   "execution_count": 139,
   "id": "2d66a766-aeca-4d4d-a3a5-ef10f6859f3f",
   "metadata": {},
   "outputs": [],
   "source": [
    "Nx=64\n",
    "Ny=64\n",
    "t_min=0.00\n",
    "t_max=2.00\n",
    "dt=.000100\n",
    "mu=0.000\n",
    "a=2*np.pi\n",
    "x=np.linspace(0,a,Nx)\n",
    "y=np.linspace(0,a,Ny)\n",
    "Ux=[[0 for i in range(Ny)] for j in range(Nx)]\n",
    "# Uk=[[complex(0,1) for i in range(Ny)] for j in range(Nx)]\n",
    "k=1\n",
    "for i in range(0,Nx):\n",
    "    for j in range(0,Ny):\n",
    "        Ux[i][j]=np.sin(x[i])*np.cos(y[j])\n",
    "# for i in range(0,Nx):\n",
    "#     np.random.seed(i+k)\n",
    "#     for j in range(0,Ny):\n",
    "#         Ux[i][j]=np.random.random()\n",
    "Ukx=sci.fft(Ux)\n",
    "Ukx_dum=Ukx\n",
    "Ux_dum=sci.ifft(Ukx_dum)"
   ]
  },
  {
   "cell_type": "code",
   "execution_count": 147,
   "id": "2a3f59dd-3e9c-4b4c-bb42-75b13e0d5661",
   "metadata": {},
   "outputs": [
    {
     "data": {
      "text/plain": [
       "64"
      ]
     },
     "execution_count": 147,
     "metadata": {},
     "output_type": "execute_result"
    }
   ],
   "source": []
  },
  {
   "cell_type": "code",
   "execution_count": 126,
   "id": "102eb412-c1b7-4d31-b0bc-f7ac4288a28f",
   "metadata": {},
   "outputs": [
    {
     "data": {
      "text/plain": [
       "array([[1., 0., 0.],\n",
       "       [1., 0., 0.],\n",
       "       [1., 0., 0.],\n",
       "       [1., 0., 0.],\n",
       "       [1., 0., 0.]])"
      ]
     },
     "execution_count": 126,
     "metadata": {},
     "output_type": "execute_result"
    }
   ],
   "source": [
    "Ux_dum.real"
   ]
  },
  {
   "cell_type": "code",
   "execution_count": 121,
   "id": "f856aa15-aa2d-4a01-8064-36b25506d4c3",
   "metadata": {},
   "outputs": [
    {
     "data": {
      "text/plain": [
       "[[0.417022004702574, 0.7203244934421581, 0.00011437481734488664],\n",
       " [0.43599490214200376, 0.025926231827891333, 0.5496624778787091],\n",
       " [0.5507979025745755, 0.7081478226181048, 0.2909047389129443],\n",
       " [0.9670298390136767, 0.5472322491757223, 0.9726843599648843],\n",
       " [0.22199317108973948, 0.8707323061773764, 0.20671915533942642]]"
      ]
     },
     "execution_count": 121,
     "metadata": {},
     "output_type": "execute_result"
    }
   ],
   "source": [
    "Ux"
   ]
  },
  {
   "cell_type": "code",
   "execution_count": null,
   "id": "aa73c0e5-f645-4dcb-ae1c-47e54103a83d",
   "metadata": {},
   "outputs": [],
   "source": []
  }
 ],
 "metadata": {
  "kernelspec": {
   "display_name": "Python 3",
   "language": "python",
   "name": "python3"
  },
  "language_info": {
   "codemirror_mode": {
    "name": "ipython",
    "version": 3
   },
   "file_extension": ".py",
   "mimetype": "text/x-python",
   "name": "python",
   "nbconvert_exporter": "python",
   "pygments_lexer": "ipython3",
   "version": "3.8.8"
  }
 },
 "nbformat": 4,
 "nbformat_minor": 5
}
