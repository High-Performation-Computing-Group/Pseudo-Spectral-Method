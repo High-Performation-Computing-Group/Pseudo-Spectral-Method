{
 "cells": [
  {
   "cell_type": "markdown",
   "metadata": {},
   "source": [
    "# Coding outside of Jupyter notebooks\n",
    "\n",
    "To be able to run Python on your own computer, I recommend installing [Anaconda](https://www.continuum.io/downloads) which contains basic packages for you to be up and running.\n",
    "\n",
    "While you are downloading things, also try the text editor [Atom](https://atom.io/)."
   ]
  },
  {
   "cell_type": "markdown",
   "metadata": {},
   "source": [
    "We have used Jupyter notebooks in this class as a useful tool for integrating text and interactive, usable code. However, many people when real-life coding would not use Jupyter notebooks but would instead type code in text files and run them via a terminal window or in iPython. Many of you have done this before, perhaps analogously in Matlab by writing your code in a .m file and then running it in the Matlab GUI. Writing code in a separate file allows more heavy computations as well as allowing that code to be reused more easily than when it is written in a Jupyter notebook.\n",
    "\n",
    "Later, we will demonstrate typing Python code in a .py file and then running it in an iPython window. First, a few of the other options..."
   ]
  },
  {
   "cell_type": "markdown",
   "metadata": {},
   "source": [
    "# Google's Colaboratory\n",
    "\n",
    "Google recently announced a partnership with Jupyter and have put out the Jupyter Notebook in their [own environment](https://colab.research.google.com/notebook). You can use it just like our in-class notebooks, share them through Google Drive, and even install packages. This may be the way of the future of teaching Python."
   ]
  },
  {
   "cell_type": "markdown",
   "metadata": {},
   "source": [
    "# Jupyter itself\n",
    "\n",
    "The Jupyter project is becoming more and more sophisticated. The next project coming out is called [JupyterLab](https://towardsdatascience.com/jupyterlab-you-should-try-this-data-science-ui-for-jupyter-right-now-a799f8914bb3) and aims to more cleanly integrate modules that are already available in the server setup we have been using: notebooks, terminals, text editor, file hierarchy, etc. You can see a pre-alpha release image of it below:\n",
    "\n",
    "![JupyterLab](https://cdn-images-1.medium.com/max/1600/1*D5L0HltRGVqcPoDfHjKxEA.png)"
   ]
  },
  {
   "cell_type": "markdown",
   "metadata": {},
   "source": [
    "# MATLAB-like GUIs\n",
    "\n",
    "Two options for using Python in a clickable, graphical user interface are [Spyder](https://pythonhosted.org/spyder/) and [Canopy](https://www.enthought.com/products/canopy/). Spyder is open source and Canopy is not, though the company that puts Canopy together (Enthought) does make a version available for free.\n",
    "\n",
    "Both are shown below. They are generally similar from the perspective of what we've been using so far. They have a console for getting information when you run your code (equivalent to running a cell in your notebook), typing in your file, getting more information about code, having nice code syntax coloring, maybe being able to examine Python objects. Note that many of these features are being integrated in less formal GUI tools like this — you'll see even in the terminal window in iPython you have access to many nice features.\n",
    "\n",
    "![Spyder](https://pythonhosted.org/spyder/_images/editor3.png)\n",
    "\n",
    "![Canopy](https://static.enthought.com/etw/img/interactive_graphical_python_code_debugger_in_enthought_canopy.png?8feb477)"
   ]
  },
  {
   "cell_type": "markdown",
   "metadata": {},
   "source": [
    "# Using iPython in a terminal window\n",
    "\n",
    "Here we have code in our notebook:"
   ]
  },
  {
   "cell_type": "code",
   "execution_count": 5,
   "metadata": {},
   "outputs": [],
   "source": [
    "import numpy as np\n",
    "import matplotlib.pyplot as plt\n",
    "# just for jupyter notebooks\n",
    "%matplotlib inline"
   ]
  },
  {
   "cell_type": "code",
   "execution_count": 6,
   "metadata": {
    "collapsed": true
   },
   "outputs": [],
   "source": [
    "x = np.linspace(0, 10)\n",
    "y = x**2"
   ]
  },
  {
   "cell_type": "code",
   "execution_count": 7,
   "metadata": {},
   "outputs": [
    {
     "data": {
      "text/plain": [
       "[<matplotlib.lines.Line2D at 0x7fed1c38f240>]"
      ]
     },
     "execution_count": 7,
     "metadata": {},
     "output_type": "execute_result"
    },
    {
     "data": {
      "image/png": "[encoded data removed]",
      "text/plain": [
       "<matplotlib.figure.Figure at 0x7fed1c411588>"
      ]
     },
     "metadata": {},
     "output_type": "display_data"
    }
   ],
   "source": [
    "fig = plt.figure()\n",
    "ax = fig.add_subplot(111)\n",
    "ax.plot(x, y, 'k', lw=3)"
   ]
  },
  {
   "cell_type": "markdown",
   "metadata": {},
   "source": [
    "Now let's switch to a terminal window and a text file..."
   ]
  },
  {
   "cell_type": "markdown",
   "metadata": {},
   "source": [
    "## Open iPython\n",
    "\n",
    "Get Anaconda downloaded and opened up on your machine if you want. Open a terminal window, or use the one that Anaconda opens, and type:\n",
    "\n",
    "> ipython\n",
    "\n",
    "Or, you can use redfish. On `redfish`: \n",
    "\n",
    "Go to the home menu on redfish, on the right-hand-side under \"New\", choose \"Terminal\" to open a terminal window that is running on `redfish`. To run Python 3 in this terminal window, you'll need to use the command `ipython3` instead of `ipython`, due to the way the alias to the program is set up:\n",
    "\n",
    "> ipython3\n",
    "\n",
    "\n",
    "Note that we will use this syntax to mean that it is something to be typed in your terminal window/command prompt (or it is part of an exercise). To open ipython with some niceties added so that you don't have to import them by hand each time you open the program (numpy and matplotlib in particular), open it with\n",
    "\n",
    "> ipython --pylab\n",
    "\n",
    "Once you have done this, you'll see a series of text lines indicating that you are now in the program ipython. You can now type code as if you were in a code window in a Jupyter notebook (but without an ability to integrate text easily)."
   ]
  },
  {
   "cell_type": "markdown",
   "metadata": {},
   "source": [
    "---\n",
    "### *Exercise*\n",
    "\n",
    "> Copy in the code to define `x` and `y` from above, then make the figure. If you haven't opened `ipython` with the option flag `--pylab`, you will need to still do the import statements, but not `%matplotlib inline` since that is only for notebooks. \n",
    "\n",
    "> Notice how the figure appears as a separate window. Play with the figure window — you can change the size and properties of the plot using the GUI buttons, and you can zoom.\n",
    "\n",
    "---"
   ]
  },
  {
   "cell_type": "markdown",
   "metadata": {},
   "source": [
    "## Text editor\n",
    "\n",
    "A typical coding set up is to have a terminal window with `ipython` running alongside a text window where you type your code. You can then go back and forth, trying things out in iPython, and keeping what works in the text window so that you finish with a working script, which can be run independently in the future. This is, of course, what you've been doing when you use Jupyter notebooks, except everything is combined into one place in that sort of setup. If you are familiar with Matlab, this is what you are used to when you have your Matlab window with your `*.m` text window alongside a \"terminal window\" where you can type things. (There is also a variable viewer included in Matlab.) This is also what you can do in a single program with Jupyterlab.\n",
    "\n",
    "A good text editor should be able to highlight syntax – that is, use color and font style to differentiate between special key words and types for a given programming language. This is what has been happening in our Jupyter notebooks, when strings are colored red, for example. The editors will also key off typical behaviors in the language to try to be helpful, such as when in a Jupyter notebook if you write an `if` statement with a colon at the end and push `enter`, the next line will be automatically indented so that you can just start typing. These behaviors can be adjusted by changing user settings.\n",
    "\n",
    "Some options are [TextMate](https://macromates.com/) for Mac, which costs money, and [Sublime Text](https://www.sublimetext.com/) which works on all operating systems and also costs money (after a free trial). For this class, we recommend using [Atom](https://atom.io/), which is free, works across operating systems, and integrates with GitHub since they wrote it.\n",
    "\n",
    "So, go download Atom and start using it, unless you have a preferred alternative you want to use."
   ]
  },
  {
   "cell_type": "markdown",
   "metadata": {},
   "source": [
    "---\n",
    "### *Exercise*: run a script\n",
    "\n",
    "> If you are running python locally on your machine with Anaconda, copy and paste the code from above into a new text file in your text editor. Save it, then run the file in ipython with\n",
    "\n",
    "> run [filename]\n",
    "\n",
    "> If you are sticking with `redfish`, you can type out text in a text file from the home window (under New), and you can get most but not all functionality this way. Or you can try one of the GUIs. \n",
    "\n",
    "---"
   ]
  },
  {
   "cell_type": "markdown",
   "metadata": {},
   "source": [
    "## Package managing\n",
    "\n",
    "The advantage of Anaconda is being able to really easily add packages, with\n",
    "\n",
    "> conda install [packagename]\n",
    "\n",
    "This will look for the Python package you want in the places known to conda. You may also tell it to look in another channel, which other people and groups can maintain. For example, `cartopy` is available through the `scitools channel`:\n",
    "\n",
    "> conda install -c scitools cartopy\n",
    "\n",
    "Sometimes, it is better or necessary to use `pip` to install packages, which links to the PyPI collections of packages that anyone can place there for other people to use. For example, you can get the `cmocean` colormaps package from [PyPI](https://pypi.python.org/pypi/cmocean) with\n",
    "\n",
    "> pip install cmocean"
   ]
  },
  {
   "cell_type": "markdown",
   "metadata": {},
   "source": [
    "## Running Jupyter notebooks on your own server\n",
    "\n",
    "We've been running our notebooks on a TAMU server all semester. You can do this on your own machine pretty easily once you have Anaconda. There should be a place for you to double-click for it to open, or you can open a terminal window and type:\n",
    "\n",
    "> jupyter notebook\n",
    "\n",
    "This opens a window that should look familiar in your browser window. The difference is that instead of connecting to a remote server (on redfish), you are connecting to a local server on your own machine that you started running with the `jupyter notebook` command."
   ]
  },
  {
   "cell_type": "markdown",
   "metadata": {},
   "source": [
    "# Run a script\n",
    "\n",
    "When you use the command `run` in iPython, parts of the code in that file are implemented as if they were written in the iPython window itself. Code that is outside of a function call will run: at 0 indentation level (import statements and maybe some variables definitions are common), but not any functions, though it will read the functions into your local variables so that they can be used. Code inside the line `if __name__ == '__main__':` will also be run. This syntax is available so that default run commands can be built into your script. This is often used to provide example or test code that can be easily run.\n",
    "\n",
    "Note anytime you are accessing a saved file from iPython, you need to have at least one of the following be true:\n",
    "\n",
    "* is in the same directory in your terminal window as the file;\n",
    "* are referencing the file with either its full path or a relative path;\n",
    "* have the path to your file be appended to the environmental variable PYTHONPATH."
   ]
  },
  {
   "cell_type": "markdown",
   "metadata": {},
   "source": [
    "---\n",
    "### *Exercise*\n",
    "\n",
    "> There is example code available to try at https://github.com/kthyng/python4geosciences/blob/master/data/optimal_interpolation.py. Copy this code into your text editor and save it to the same location on your computer as your iPython window is open.\n",
    "\n",
    "> Within your iPython window, run optimal_interpolation.py with `run optimal_interpolation` (if you saved it in the same directory as your iPython window). Which part of the code actually runs? Why?\n",
    "\n",
    "> Add some `print` statements into the script at 0 indentation as well as below the line `if __name__ == '__main__':` and see what comes through when you run the code. Can you access the class `oi_1d`?\n",
    "\n",
    "---"
   ]
  },
  {
   "cell_type": "markdown",
   "metadata": {},
   "source": [
    "# Importing your own code\n",
    "\n",
    "The point of importing code is to be able to then use the functions and classes that you've written in other files. Importing your own code is just like importing `numpy` or any other package. You use the same syntax and you have the same ability to query the built-in methods.\n",
    "\n",
    "> import numpy\n",
    "\n",
    "or:\n",
    "\n",
    "> import [your_code]\n",
    "\n",
    "When you import a package, any code at the 0 indentation level will run; however, the code within `if __name__ == '__main__':` will not run.\n",
    "\n",
    "When you are using a single script for analysis, you may just use `run` to use your code. However, as you build up complexity in your work, you'll probably want to make separate, independent code bases that can be called from subsequent code by importing them (again, just like us using the capabilities in `numpy`).\n",
    "\n",
    "When you import a package, a `*.pyc` file is created which holds compiled code that is subsequently read when the package is again imported, in order to save time. When you are in a single session in iPython, that `*.pyc` will be used and not updated. If you have changed the code and want it to be updated, you either need to exit iPython and reopen it, or you need to `reload` the package. These is different syntax for this depending on the version of Python you are using, but we are using Python 3 (>3.4) so we will do the following:\n",
    "\n",
    "**For >= Python3.4:**\n",
    "\n",
    "    import importlib\n",
    "    importlib.reload([code to reload])\n"
   ]
  },
  {
   "cell_type": "markdown",
   "metadata": {},
   "source": [
    "---\n",
    "### *Exercise*\n",
    "\n",
    "> Import `optimal_interpolation.py`. Add a print statement with 0 indentation level in the code. Import the package again. Does the print statement run? Reload the package. How about now?\n",
    "\n",
    "> What about if you run it instead of importing it?\n"
   ]
  },
  {
   "cell_type": "markdown",
   "metadata": {},
   "source": [
    "### *Exercise*\n",
    "\n",
    "> Write your own simple script with a function in it — your function should take at least one input (maybe several numbers) and return something (maybe a number that is the result of some calculation). \n",
    "\n",
    "> Now, use your code in several ways. Run the code in ipython with\n",
    "\n",
    "> run [filename]\n",
    "\n",
    "> Make sure you have a __name__ definition for this (`if __name__ == '__main__':`, etc). Now import the code and use it:\n",
    "\n",
    "> import [filename]\n",
    "\n",
    "> Add a docstring to the top of the file and reload your package, then query the code. Do you see the docstring? Add a docstring to the function in the file, reload, and query. Do you see the docstring?\n",
    "\n",
    "> You should have been able to run your code both ways: running it directly, and importing it, then using a function that is within the code.\n",
    "\n",
    "---"
   ]
  },
  {
   "cell_type": "markdown",
   "metadata": {},
   "source": [
    "# Unit testing\n",
    "\n",
    "The idea of unit testing is to develop tests for your code as you develop it, so that you automatically know if it is working properly as you make changes. In fact, some coders prefer to write the unit tests first to drive the proper development of their code and to know when it is working. Of course, the quality of the testing is made up of the tests you include and aspects of your code that you test. \n",
    "\n",
    "Here are some unit test [guidelines](http://docs.python-guide.org/en/latest/writing/tests/):\n",
    "\n",
    "* Generally, you want to write unit tests that test one small aspect of your code functionality, as separately as possible from other parts of it. Then write many of these tests to cover all aspects of functionality.\n",
    "* Make sure your unit tests run very quickly since you may end up with many of them\n",
    "* Always run the full test suite before a coding session, and run it again after. This will give you more confidence that you did not break anything in the rest of the code.\n",
    "* You can now run a program like [Travis CI](https://travis-ci.com/) through GitHub which runs your test suite before you push your code to your repository or merge a pull request.\n",
    "* Use long and descriptive names for testing functions. The style guide here is slightly different than that of running code, where short names are often preferred. The reason is testing functions are never called explicitly. square() or even sqr() is ok in running code, but in testing code you would have names such as test_square_of_number_2(), test_square_negative_number(). These function names are displayed when a test fails, and should be as descriptive as possible.\n",
    "* Include detailed docstrings and comments throughout your testing files since these may be read more than the original code.\n",
    "\n",
    "How to set up a suite of unit tests:\n",
    "\n",
    "1. make a `tests` directory in your code (or for simple code, just have your test file in the same directory);\n",
    "1. make a new file to hold your tests, called `tests*.py` — it must start with \"test\" for it to be noticed by testing programs;\n",
    "1. inside `tests*.py`, write a test function called `test_*()` — the testing programs look for functions with these names in particular and ignore other functions;\n",
    "1. use functions like `assert` and `np.allclose` for numeric comparisons of function outputs and checking for output types.\n",
    "1. run testing programs on your code. I recommend [nosetests](http://nose.readthedocs.org/en/latest/usage.html) or [pytest](http://pytest.org/latest/). You use these by running `nosetests` or `py.test` from the terminal window in the directory with your test code in it (or pointing to the directory). Next version will be `nose2`."
   ]
  },
  {
   "cell_type": "markdown",
   "metadata": {},
   "source": [
    "You can load files into Jupyter notebooks using the magic command `%load`. You can then run the code inside the notebook if you want (though the `import` statement will be an issue here), or just look at it."
   ]
  },
  {
   "cell_type": "code",
   "execution_count": null,
   "metadata": {},
   "outputs": [],
   "source": [
    "# %load ../data/package.py\n",
    "def add(x, y):\n",
    "    \"\"\"doc \"\"\"\n",
    "\n",
    "    return x+y\n",
    "\n",
    "print(add(1, 2))\n",
    "\n",
    "if __name__ == '__main__':\n",
    "    print(add(1, 1))\n"
   ]
  },
  {
   "cell_type": "code",
   "execution_count": null,
   "metadata": {},
   "outputs": [],
   "source": [
    "# %load ../data/test.py\n",
    "\"\"\"Test package.py\"\"\"\n",
    "\n",
    "import package\n",
    "import numpy as np\n",
    "\n",
    "\n",
    "def test_add_12():\n",
    "    \"\"\"Test package with inputs 1, 2\"\"\"\n",
    "\n",
    "    assert package.add(1, 2) == np.sum([1, 2])\n"
   ]
  },
  {
   "cell_type": "markdown",
   "metadata": {},
   "source": [
    "Now, run the test. We can do this by escaping to the terminal, or we can go to our terminal window and run it there.\n",
    "\n",
    "Note: starting a line of code with \"!\" makes it from the terminal window. Some commands are so common that you don't need to use the \"!\" (like `ls`), but in general you need it."
   ]
  },
  {
   "cell_type": "code",
   "execution_count": null,
   "metadata": {},
   "outputs": [],
   "source": [
    "!nosetests ../data/"
   ]
  },
  {
   "cell_type": "markdown",
   "metadata": {},
   "source": [
    "---\n",
    "### *Exercise*\n",
    "\n",
    "> Start another file called `test*.py`. In it, write a test function, `test_*()`, that checks the accuracy of your original function in some way. Then run it with `nosetests`.\n",
    "\n",
    "---"
   ]
  },
  {
   "cell_type": "markdown",
   "metadata": {},
   "source": [
    "# PEP 0008\n",
    "\n",
    "A [PEP](https://www.python.org/dev/peps/pep-0001/) is a Python Enhancement Proposal, describing ideas for design or processes to the Python community. The list of the PEPs is [available online](https://www.python.org/dev/peps/).\n",
    "\n",
    "[PEP 0008](https://www.python.org/dev/peps/pep-0008/) is a set of style guidelines for writing good, clear, readable code, written with the assumption that code is read more often than it is written. These address questions such as, when a line of code is longer than one line, how should it be indented? And speaking of one line of code, how long should it be? Note than even in this document, they emphasize that these are guidelines and sometimes should be trumped by what has already been happening in a project or other considerations. But, generally, follow what they say here.\n",
    "\n",
    "Here is a list of some style guidelines to follow, but check out the full guide for a wealth of good ideas:\n",
    "\n",
    "* indent with spaces, not tabs\n",
    "* indent with 4 spaces\n",
    "* limit all lines to a maximum of 79 characters\n",
    "* put a space after a comma\n",
    "* avoid trailing whitespace anywhere\n",
    "\n",
    "Note that you can tell your text editor to enforce pep8 style guidelines to help you learn. This is called a linter. I do this with a plug-in in Sublime Text. You can [get one](https://github.com/AtomLinter/linter-pep8) for Atom."
   ]
  },
  {
   "cell_type": "markdown",
   "metadata": {},
   "source": [
    "---\n",
    "### *Exercise*\n",
    "\n",
    "> Go back and clean up your code you've been writing so that it follows pep8 standards.\n",
    "\n",
    "---"
   ]
  },
  {
   "cell_type": "markdown",
   "metadata": {},
   "source": [
    "# Docstrings\n",
    "\n",
    "Docstrings should be provided at the top of a code file for the whole package, and then for each function/class within the package.\n",
    "\n",
    "## Overall style\n",
    "\n",
    "Overall style for docstrings is given in [PEP 0257](https://www.python.org/dev/peps/pep-0257/), and includes the following guidelines:\n",
    "\n",
    "* one liners: for really obvious functions. Keep the docstring completely on one line:\n",
    "> def simple_function():\n",
    ">     \"\"\"Simple functionality.\"\"\"\n",
    "\n",
    "* multiliners: Multi-line docstrings consist of a summary line just like a one-line docstring, followed by a blank line, followed by a more elaborate description. The summary line may be used by automatic indexing tools; it is important that it fits on one line and is separated from the rest of the docstring by a blank line. The summary line may be on the same line as the opening quotes or on the next line.\n",
    "> def complex_function():\n",
    ">     \"\"\"\n",
    ">     One liner describing overall.\n",
    ">\n",
    ">     Now more involved description of inputs and outputs.\n",
    ">     Possibly usage example(s) too.\n",
    ">     \"\"\"\n",
    "\n",
    "## Styles for inputs/outputs\n",
    "\n",
    "For the more involved description in the multi line docstring, there are several standards used. (These are summarized nicely in a [post](http://stackoverflow.com/questions/3898572/what-is-the-standard-python-docstring-format) on Stack Overflow; this list is copied from there.)\n",
    "\n",
    "1. [reST](https://www.python.org/dev/peps/pep-0287/)\n",
    "> def complex_function(param1, param2):\n",
    ">     \"\"\"\n",
    ">     This is a reST style.\n",
    ">  \n",
    ">     :param param1: this is a first param\n",
    ">     :param param2: this is a second param\n",
    ">     :returns: this is a description of what is returned\n",
    ">     :raises keyError: raises an exception\n",
    ">     \"\"\"\n",
    "\n",
    "1. [Google](http://google.github.io/styleguide/pyguide.html#Python_Language_Rules)\n",
    "> def complex_function(param1, param2):\n",
    ">     \"\"\"\n",
    ">     This is an example of Google style.\n",
    ">  \n",
    ">     Args:\n",
    ">         param1: This is the first param.\n",
    ">         param2: This is a second param.\n",
    ">     \n",
    ">     Returns:\n",
    ">         This is a description of what is returned.\n",
    ">     \n",
    ">     Raises:\n",
    ">         KeyError: Raises an exception.\n",
    ">     \"\"\"\n",
    "\n",
    "1. [Numpydoc](https://github.com/numpy/numpy/blob/master/doc/HOWTO_DOCUMENT.rst.txt)\n",
    "> def complex_function(first, second, third='value'):\n",
    ">     \"\"\"\n",
    ">     Numpydoc format docstring.\n",
    ">     \n",
    ">     Parameters\n",
    ">     ----------\n",
    ">     first : array_like\n",
    ">         the 1st param name `first`\n",
    ">     second :\n",
    ">        the 2nd param\n",
    ">     third : {'value', 'other'}, optional\n",
    ">         the 3rd param, by default 'value'\n",
    ">     \n",
    ">     Returns\n",
    ">     -------\n",
    ">     string\n",
    ">         a value in a string\n",
    ">     \n",
    ">     Raises\n",
    ">     ------\n",
    ">     KeyError\n",
    ">         when a key error\n",
    ">     OtherError\n",
    ">         when an other error\n",
    ">     \"\"\""
   ]
  },
  {
   "cell_type": "markdown",
   "metadata": {},
   "source": [
    "# Documentation generation\n",
    "\n",
    "[Sphinx](http://www.sphinx-doc.org/en/stable/index.html) is a program that can be run to generate documentation for your project from your docstrings. You basically run the program and if you use the proper formatting in your docstrings, they will all be properly pulled out and presented nicely in a coherent way. There are various additions you can use with Sphinx in order to be able to write your docstrings in different formats (as shown above) and still have Sphinx be able to interpret them. For example, you can use [Napoleon](http://sphinxcontrib-napoleon.readthedocs.org/en/latest/) with Sphinx to be able to write using the Google style instead of reST, meaning that you can have much more readable docstrings and still get nicely-generated documentation out. Once you have generated this documentation, you can publish it using [Read the docs](https://readthedocs.org/). Here is documentation on readthedocs for a package that converts between colorspaces, [Colorspacious](https://colorspacious.readthedocs.org/en/latest/).\n",
    "\n",
    "Another approach is to use Sphinx, but link it with [GitHub Pages](https://pages.github.com/), which is hosted directly from your GitHub repo page. Separately from documentation, I use GitHub Pages for [my own website](http://kristenthyng.com). I also use one for documentation for a package of mine, [cmocean](http://matplotlib.org/cmocean/) that provides colormaps for oceanography. To get this running, I followed instructions [online](http://gisellezeno.com/tutorials/sphinx-for-python-documentation.html). Note that GitHub pages is built using Jekyll but in this case we tell it not to use Jekyll and instead use Sphinx.\n",
    "\n",
    "We can see that the docstrings in the code are nicely interpreted into documentation for the functions by comparing the [module docs](http://matplotlib.org/cmocean/cmocean.html#module-cmocean.tools) with the code below."
   ]
  },
  {
   "cell_type": "code",
   "execution_count": null,
   "metadata": {
    "collapsed": true
   },
   "outputs": [],
   "source": [
    "# %load https://raw.githubusercontent.com/matplotlib/cmocean/master/cmocean/tools.py\n",
    "'''\n",
    "Plot up stuff with colormaps.\n",
    "'''\n",
    "\n",
    "import numpy as np\n",
    "import matplotlib as mpl\n",
    "\n",
    "\n",
    "def print_colormaps(cmaps, N=256, returnrgb=True, savefiles=False):\n",
    "    '''Print colormaps in 256 RGB colors to text files.\n",
    "\n",
    "    :param returnrgb=False: Whether or not to return the rgb array. Only makes sense to do if print one colormaps' rgb.\n",
    "\n",
    "    '''\n",
    "\n",
    "    rgb = []\n",
    "\n",
    "    for cmap in cmaps:\n",
    "\n",
    "        rgbtemp = cmap(np.linspace(0, 1, N))[np.newaxis, :, :3][0]\n",
    "        if savefiles:\n",
    "            np.savetxt(cmap.name + '-rgb.txt', rgbtemp)\n",
    "        rgb.append(rgbtemp)\n",
    "\n",
    "    if returnrgb:\n",
    "        return rgb\n",
    "\n",
    "\n",
    "def get_dict(cmap, N=256):\n",
    "    '''Change from rgb to dictionary that LinearSegmentedColormap expects.\n",
    "    Code from https://mycarta.wordpress.com/2014/04/25/convert-color-palettes-to-python-matplotlib-colormaps/\n",
    "    and http://nbviewer.ipython.org/github/kwinkunks/notebooks/blob/master/Matteo_colourmaps.ipynb\n",
    "    '''\n",
    "\n",
    "    x = np.linspace(0, 1, N)  # position of sample n - ranges from 0 to 1\n",
    "\n",
    "    rgb = cmap(x)\n",
    "\n",
    "    # flip colormap to follow matplotlib standard\n",
    "    if rgb[0, :].sum() < rgb[-1, :].sum():\n",
    "        rgb = np.flipud(rgb)\n",
    "\n",
    "    b3 = rgb[:, 2]  # value of blue at sample n\n",
    "    b2 = rgb[:, 2]  # value of blue at sample n\n",
    "\n",
    "    # Setting up columns for tuples\n",
    "    g3 = rgb[:, 1]\n",
    "    g2 = rgb[:, 1]\n",
    "\n",
    "    r3 = rgb[:, 0]\n",
    "    r2 = rgb[:, 0]\n",
    "\n",
    "    # Creating tuples\n",
    "    R = list(zip(x, r2, r3))\n",
    "    G = list(zip(x, g2, g3))\n",
    "    B = list(zip(x, b2, b3))\n",
    "\n",
    "    # Creating dictionary\n",
    "    k = ['red', 'green', 'blue']\n",
    "    LinearL = dict(zip(k, [R, G, B]))\n",
    "\n",
    "    return LinearL\n",
    "\n",
    "\n",
    "def cmap(rgbin, N=256):\n",
    "    '''Input an array of rgb values to generate a colormap.\n",
    "\n",
    "    :param rgbin: An [mx3] array, where m is the number of input color triplets which\n",
    "         are interpolated between to make the colormap that is returned. hex values\n",
    "         can be input instead, as [mx1] in single quotes with a #.\n",
    "    :param N=10: The number of levels to be interpolated to.\n",
    "\n",
    "    '''\n",
    "\n",
    "    # rgb inputs here\n",
    "    if not mpl.cbook.is_string_like(rgbin[0]):\n",
    "        # normalize to be out of 1 if out of 256 instead\n",
    "        if rgbin.max() > 1:\n",
    "            rgbin = rgbin/256.\n",
    "\n",
    "    cmap = mpl.colors.LinearSegmentedColormap.from_list('mycmap', rgbin, N=N)\n",
    "\n",
    "    return cmap\n"
   ]
  },
  {
   "cell_type": "markdown",
   "metadata": {},
   "source": [
    "# Debugging\n",
    "\n",
    "You can use the package [`pdb`](https://docs.python.org/3/library/pdb.html) while running your code to pause it intermittently and poke around to check variable values and understand what is going on.\n",
    "\n",
    "A few key commands to get you started are:\n",
    "\n",
    "* `pdb.set_trace()` pauses the code run at this location, then allows you to type in the iPython window. You can print statements or check variables shapes, etc. This is how you can dig into code.\n",
    "* Once you have stopped your code at a trace, use:\n",
    " * `n` to move to the next line;\n",
    " * `s` to step into a function if that is the next line and you want to move into that function as opposed to just running the function;\n",
    " * `c` to continue until there is another trace, the code ends, it reaches the end of a function, or an error occurs;\n",
    " * `q` to quit out of the debugger, which will also quit out of the code being run."
   ]
  },
  {
   "cell_type": "markdown",
   "metadata": {},
   "source": [
    "---\n",
    "### *Exercise*\n",
    "\n",
    "> Use `pdb` to investigate variables after starting your code running.\n",
    "\n",
    "---"
   ]
  },
  {
   "cell_type": "markdown",
   "metadata": {},
   "source": [
    "# Make a package\n",
    "\n",
    "To make a Python package that you want to be a bit more official because you plan to use it long-term, and/or you want to share it with other people and make it easy for them to use, you are going to want to get it on GitHub, provide documentation, and get it on PyPI (this is how you are able to then easily install it with `pip install [package_name]`). There are also a number of technical steps you'll need to do. More information about this sort of process is [available online](http://python-packaging.readthedocs.org/en/latest/minimal.html)."
   ]
  }
 ],
 "metadata": {
  "anaconda-cloud": {},
  "kernelspec": {
   "display_name": "Python 3",
   "language": "python",
   "name": "python3"
  },
  "language_info": {
   "codemirror_mode": {
    "name": "ipython",
    "version": 3
   },
   "file_extension": ".py",
   "mimetype": "text/x-python",
   "name": "python",
   "nbconvert_exporter": "python",
   "pygments_lexer": "ipython3",
   "version": "3.6.0"
  }
 },
 "nbformat": 4,
 "nbformat_minor": 1
}
