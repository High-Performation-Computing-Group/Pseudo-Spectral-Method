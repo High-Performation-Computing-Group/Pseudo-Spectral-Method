{
 "cells": [
  {
   "cell_type": "markdown",
   "metadata": {},
   "source": [
    "# Core language"
   ]
  },
  {
   "cell_type": "markdown",
   "metadata": {},
   "source": [
    "# A. Variables\n",
    "\n",
    "Variables are used to store and modify values."
   ]
  },
  {
   "cell_type": "code",
   "execution_count": 3,
   "metadata": {},
   "outputs": [
    {
     "name": "stdout",
     "output_type": "stream",
     "text": [
      "5 8.1415 0.6141374439599582\n"
     ]
    }
   ],
   "source": [
    "a = 5\n",
    "b = a + 3.1415\n",
    "c = a / b\n",
    "\n",
    "print(a, b, c)"
   ]
  },
  {
   "cell_type": "markdown",
   "metadata": {},
   "source": [
    "Note, we did not need to declare variable types (like in fortran), we could just assign anything to a variable and it works. This is the power of an interpreted (as opposed to compiled) language. Also, we can add different types (`a` is an integer, and we add the float 3.1415 to get `b`). The result is 'upcast' to whatever data type can handle the result. I.e., adding a float and an int results in a float.\n",
    "\n",
    "Variables can store lots of different kinds of data"
   ]
  },
  {
   "cell_type": "code",
   "execution_count": 4,
   "metadata": {},
   "outputs": [],
   "source": [
    "s = 'Ice cream'            # A string\n",
    "f = [1, 2, 3, 4]           # A list\n",
    "d = 3.1415928              # A floating point number\n",
    "i = 5                      # An integer\n",
    "b = True                   # A boolean value"
   ]
  },
  {
   "cell_type": "markdown",
   "metadata": {},
   "source": [
    "*Side note*: Anything followed by a `#` is a comment, and is not considered part of the code. Comments are useful for explaining what a bit of code does. ___USE COMMENTS___"
   ]
  },
  {
   "cell_type": "markdown",
   "metadata": {},
   "source": [
    "You can see what `type` a variable has by using the `type` function, like"
   ]
  },
  {
   "cell_type": "code",
   "execution_count": 5,
   "metadata": {},
   "outputs": [
    {
     "data": {
      "text/plain": [
       "str"
      ]
     },
     "execution_count": 5,
     "metadata": {},
     "output_type": "execute_result"
    }
   ],
   "source": [
    "type(s)"
   ]
  },
  {
   "cell_type": "markdown",
   "metadata": {},
   "source": [
    "---\n",
    "### *Exercise*\n",
    "\n",
    "> Use `type` to see the types of the other variables\n",
    "\n",
    "---"
   ]
  },
  {
   "cell_type": "code",
   "execution_count": null,
   "metadata": {},
   "outputs": [],
   "source": []
  },
  {
   "cell_type": "markdown",
   "metadata": {},
   "source": [
    "---\n",
    "### *Exercise*\n",
    "\n",
    "> What happens when you add variables of the same type? What about adding variables of different types?\n",
    "\n",
    "---"
   ]
  },
  {
   "cell_type": "code",
   "execution_count": null,
   "metadata": {},
   "outputs": [],
   "source": []
  },
  {
   "cell_type": "markdown",
   "metadata": {},
   "source": [
    "You can test to see if a variable is a particular type by using the `isinstance(var, type)` function."
   ]
  },
  {
   "cell_type": "code",
   "execution_count": 6,
   "metadata": {},
   "outputs": [
    {
     "data": {
      "text/plain": [
       "True"
      ]
     },
     "execution_count": 6,
     "metadata": {},
     "output_type": "execute_result"
    }
   ],
   "source": [
    "isinstance(s, str)  # is s a string?"
   ]
  },
  {
   "cell_type": "code",
   "execution_count": 7,
   "metadata": {},
   "outputs": [
    {
     "data": {
      "text/plain": [
       "False"
      ]
     },
     "execution_count": 7,
     "metadata": {},
     "output_type": "execute_result"
    }
   ],
   "source": [
    "isinstance(f, int)  # is s an integer?"
   ]
  },
  {
   "cell_type": "markdown",
   "metadata": {},
   "source": [
    "# C. Tests for equality and inequality\n",
    "\n",
    "We can test the values of variables using different operators. These tests return a `Boolean` value. Either `True` or `False`. `False` is the same as zero, `True` is nonzero. Note that assignment `=` is different than a test of equality `==`."
   ]
  },
  {
   "cell_type": "code",
   "execution_count": 8,
   "metadata": {},
   "outputs": [
    {
     "data": {
      "text/plain": [
       "True"
      ]
     },
     "execution_count": 8,
     "metadata": {},
     "output_type": "execute_result"
    }
   ],
   "source": [
    "a < 99"
   ]
  },
  {
   "cell_type": "code",
   "execution_count": 9,
   "metadata": {},
   "outputs": [
    {
     "data": {
      "text/plain": [
       "False"
      ]
     },
     "execution_count": 9,
     "metadata": {},
     "output_type": "execute_result"
    }
   ],
   "source": [
    "a > 99"
   ]
  },
  {
   "cell_type": "code",
   "execution_count": 10,
   "metadata": {},
   "outputs": [
    {
     "data": {
      "text/plain": [
       "True"
      ]
     },
     "execution_count": 10,
     "metadata": {},
     "output_type": "execute_result"
    }
   ],
   "source": [
    "a == 5."
   ]
  },
  {
   "cell_type": "markdown",
   "metadata": {},
   "source": [
    "These statements have returned \"booleans\", which are `True` and `False` only. These are commonly used to check for conditions within a script or function to determine the next course of action.\n",
    "\n",
    "NOTE: booleans are NOT equivalent to a string that says \"True\" or \"False\". We can test this:"
   ]
  },
  {
   "cell_type": "code",
   "execution_count": 11,
   "metadata": {},
   "outputs": [
    {
     "data": {
      "text/plain": [
       "False"
      ]
     },
     "execution_count": 11,
     "metadata": {},
     "output_type": "execute_result"
    }
   ],
   "source": [
    "True == 'True'"
   ]
  },
  {
   "cell_type": "markdown",
   "metadata": {},
   "source": [
    "There are other things that can be tested, not just mathematical equalities. For example, to test if an element is inside of a list or string (or any sequence, more on sequences below..), do"
   ]
  },
  {
   "cell_type": "code",
   "execution_count": 12,
   "metadata": {},
   "outputs": [
    {
     "data": {
      "text/plain": [
       "True"
      ]
     },
     "execution_count": 12,
     "metadata": {},
     "output_type": "execute_result"
    }
   ],
   "source": [
    "foo = [1, 2, 3, 4, 5 ,6]\n",
    "5 in foo"
   ]
  },
  {
   "cell_type": "code",
   "execution_count": 13,
   "metadata": {},
   "outputs": [
    {
     "data": {
      "text/plain": [
       "True"
      ]
     },
     "execution_count": 13,
     "metadata": {},
     "output_type": "execute_result"
    }
   ],
   "source": [
    "'this' in 'What is this?'"
   ]
  },
  {
   "cell_type": "code",
   "execution_count": 14,
   "metadata": {},
   "outputs": [
    {
     "data": {
      "text/plain": [
       "False"
      ]
     },
     "execution_count": 14,
     "metadata": {},
     "output_type": "execute_result"
    }
   ],
   "source": [
    "'that' in 'What is this?'"
   ]
  },
  {
   "cell_type": "markdown",
   "metadata": {},
   "source": [
    "# D. Intro to functions\n",
    "\n",
    "We will discuss functions in more detail later in this notebook, but here is a quick view to help with the homework.\n",
    "\n",
    "Functions allow us to write code that we can use in the future. When we take a series of code statements and put them in a function, we can reuse that code to take in inputs, perform calculations or other manipulations, and return outputs, just like a function in math.\n",
    "\n",
    "Almost all of the code you submit in your homework will be within functions so that I can use and test the functionality of your code.\n",
    "\n",
    "Here we have a function called `display_and_capitalize_string` which takes in a string, prints that string, and then returns the same string but with it capitalized."
   ]
  },
  {
   "cell_type": "code",
   "execution_count": 15,
   "metadata": {},
   "outputs": [],
   "source": [
    "def display_and_capitalize_string(input_str):\n",
    "    '''Documentation for this function, which can span\n",
    "    multiple \n",
    "    lines since triple quotes are used for this.\n",
    "    \n",
    "    Takes in a string, prints that string, and then returns the same string but with it capitalized.'''\n",
    "    \n",
    "    print(input_str)  # print out to the screen the string that was input, called `input_str`\n",
    "    \n",
    "    new_string = input_str.capitalize()  # use built-in method for a string to capitalize it\n",
    "    \n",
    "    return new_string\n",
    "    "
   ]
  },
  {
   "cell_type": "code",
   "execution_count": 16,
   "metadata": {},
   "outputs": [
    {
     "name": "stdout",
     "output_type": "stream",
     "text": [
      "hi\n"
     ]
    },
    {
     "data": {
      "text/plain": [
       "'Hi'"
      ]
     },
     "execution_count": 16,
     "metadata": {},
     "output_type": "execute_result"
    }
   ],
   "source": [
    "display_and_capitalize_string('hi')"
   ]
  },
  {
   "cell_type": "markdown",
   "metadata": {},
   "source": [
    "This is analogous to the relationship between a variable and a function in math. The variable is $x$, and the function is $f(x)$, which changes the input $x$ in some way, then returns a new value. To access that returned value, you have to use the function -- not just define the function."
   ]
  },
  {
   "cell_type": "code",
   "execution_count": 17,
   "metadata": {},
   "outputs": [
    {
     "name": "stdout",
     "output_type": "stream",
     "text": [
      "hi\n"
     ]
    }
   ],
   "source": [
    "# input variable, x. Internal to the function itself, it is called \n",
    "# input_str.\n",
    "x = 'hi'  \n",
    "\n",
    "# function f(x) is `display_and_capitalize_string`\n",
    "# the function returns the variable `output_string`\n",
    "output_string = display_and_capitalize_string('hi')"
   ]
  },
  {
   "cell_type": "markdown",
   "metadata": {},
   "source": [
    "---\n",
    "\n",
    "### *Exercise*\n",
    "\n",
    "> Write your own functions that do the following:\n",
    "    1. Take in a number and return that number plus 10.\n",
    "    2. Take in a variable and return the `type` of the variable.\n",
    "\n",
    "---"
   ]
  },
  {
   "cell_type": "code",
   "execution_count": null,
   "metadata": {},
   "outputs": [],
   "source": []
  },
  {
   "cell_type": "code",
   "execution_count": null,
   "metadata": {},
   "outputs": [],
   "source": []
  },
  {
   "cell_type": "markdown",
   "metadata": {},
   "source": [
    "Equality checks are commonly used to test the outcome of a function to make sure it is performing as expected and desire. We can test the function we wrote before to see if it works the way we expect and want it to. Here are three different ways to test the outcome of the same input/output pair."
   ]
  },
  {
   "cell_type": "code",
   "execution_count": 18,
   "metadata": {},
   "outputs": [
    {
     "name": "stdout",
     "output_type": "stream",
     "text": [
      "banana\n"
     ]
    }
   ],
   "source": [
    "out_string = display_and_capitalize_string('banana')\n",
    "assert(out_string == 'Banana')"
   ]
  },
  {
   "cell_type": "code",
   "execution_count": 19,
   "metadata": {},
   "outputs": [],
   "source": [
    "from nose.tools import assert_equal\n",
    "assert_equal(out_string, \"Banana\")"
   ]
  },
  {
   "cell_type": "code",
   "execution_count": 20,
   "metadata": {},
   "outputs": [],
   "source": [
    "assert(out_string[0].isupper())"
   ]
  },
  {
   "cell_type": "markdown",
   "metadata": {},
   "source": [
    "We know that the assert statements passed because no error was thrown. On the other hand, the following test does not run successfully:"
   ]
  },
  {
   "cell_type": "code",
   "execution_count": 21,
   "metadata": {},
   "outputs": [
    {
     "ename": "AssertionError",
     "evalue": "",
     "output_type": "error",
     "traceback": [
      "\u001b[0;31m---------------------------------------------------------------------------\u001b[0m",
      "\u001b[0;31mAssertionError\u001b[0m                            Traceback (most recent call last)",
      "\u001b[0;32m<ipython-input-21-0182adb04c3b>\u001b[0m in \u001b[0;36m<module>\u001b[0;34m\u001b[0m\n\u001b[0;32m----> 1\u001b[0;31m \u001b[0;32massert\u001b[0m\u001b[0;34m(\u001b[0m\u001b[0mout_string\u001b[0m\u001b[0;34m==\u001b[0m\u001b[0;34m'BANANA'\u001b[0m\u001b[0;34m)\u001b[0m\u001b[0;34m\u001b[0m\u001b[0;34m\u001b[0m\u001b[0m\n\u001b[0m",
      "\u001b[0;31mAssertionError\u001b[0m: "
     ]
    }
   ],
   "source": [
    "assert(out_string=='BANANA')"
   ]
  },
  {
   "cell_type": "markdown",
   "metadata": {},
   "source": [
    "---\n",
    "\n",
    "### *Exercise*\n",
    "\n",
    "> Write tests using assertions to check how well your functions from the previous exercise are working.\n",
    "\n",
    "---"
   ]
  },
  {
   "cell_type": "code",
   "execution_count": null,
   "metadata": {},
   "outputs": [],
   "source": []
  },
  {
   "cell_type": "markdown",
   "metadata": {},
   "source": [
    "## E. Conditionals\n",
    "\n",
    "Conditionals have a similar syntax to `for` statements. Generally, conditionals look like\n",
    "\n",
    "    if <test>:\n",
    "        <Code run if...>\n",
    "        <...test is valid>\n",
    "\n",
    "or\n",
    "\n",
    "    if <first test>:\n",
    "        <Code run if...>\n",
    "        <...the first test is valid>\n",
    "    elif <second test>:\n",
    "        <Code run if...>\n",
    "        <...the second test is valid>\n",
    "    else:\n",
    "        <Code run if...>\n",
    "        <...neither test is valid>\n",
    "\n",
    "In both cases the test statements are code segments that return a boolean value, often a test for equality or inequality. The `elif` and `else` statements are always optional; both, either, or none can be included."
   ]
  },
  {
   "cell_type": "code",
   "execution_count": 22,
   "metadata": {},
   "outputs": [
    {
     "name": "stdout",
     "output_type": "stream",
     "text": [
      "x is more than 10\n"
     ]
    }
   ],
   "source": [
    "x = 20\n",
    "    \n",
    "if x < 10:\n",
    "    print('x is less than 10')\n",
    "else:\n",
    "    print('x is more than 10')"
   ]
  },
  {
   "cell_type": "markdown",
   "metadata": {},
   "source": [
    "---\n",
    "### *Exercise*\n",
    "\n",
    "> Rerun the code block above using different values for x. What happens if x=10?\n",
    "\n",
    "> Add an `elif` statement to the second block of code that will print something if x==10.\n",
    "\n",
    "---"
   ]
  },
  {
   "cell_type": "code",
   "execution_count": null,
   "metadata": {},
   "outputs": [],
   "source": []
  },
  {
   "cell_type": "markdown",
   "metadata": {},
   "source": [
    "# F. Strings\n",
    "\n",
    "Strings are made using various kinds of (matching) quotes. Examples:"
   ]
  },
  {
   "cell_type": "code",
   "execution_count": 23,
   "metadata": {},
   "outputs": [
    {
     "data": {
      "text/plain": [
       "'world'"
      ]
     },
     "execution_count": 23,
     "metadata": {},
     "output_type": "execute_result"
    }
   ],
   "source": [
    "s1 = 'hello'\n",
    "s2 = \"world\"\n",
    "s3 = '''strings can \n",
    "also go 'over'\n",
    "multiple \"lines\".'''\n",
    "s2"
   ]
  },
  {
   "cell_type": "code",
   "execution_count": 24,
   "metadata": {},
   "outputs": [
    {
     "name": "stdout",
     "output_type": "stream",
     "text": [
      "strings can \n",
      "also go 'over'\n",
      "multiple \"lines\".\n"
     ]
    }
   ],
   "source": [
    "print(s3)"
   ]
  },
  {
   "cell_type": "markdown",
   "metadata": {},
   "source": [
    "You can also 'add' strings using 'operator overloading', meaning that the plus sign can take on different meanings depending on the data types of the variables you are using it on."
   ]
  },
  {
   "cell_type": "code",
   "execution_count": 25,
   "metadata": {},
   "outputs": [
    {
     "name": "stdout",
     "output_type": "stream",
     "text": [
      "hello world\n"
     ]
    }
   ],
   "source": [
    "print( s1 + ' ' + s2)  # note, we need the space otherwise we would get 'helloworld'"
   ]
  },
  {
   "cell_type": "markdown",
   "metadata": {},
   "source": [
    "We can include special characters in strings. For example `\\n` gives a newline, `\\t` a tab, etc. Notice that the multiple line string above (`s3`) is converted to a single quote string with the newlines 'escaped' out with `\\n`."
   ]
  },
  {
   "cell_type": "code",
   "execution_count": 26,
   "metadata": {},
   "outputs": [
    {
     "data": {
      "text/plain": [
       "'STRINGS CAN \\nALSO GO \\'OVER\\'\\nMULTIPLE \"LINES\".'"
      ]
     },
     "execution_count": 26,
     "metadata": {},
     "output_type": "execute_result"
    }
   ],
   "source": [
    "s3.upper()"
   ]
  },
  {
   "cell_type": "markdown",
   "metadata": {},
   "source": [
    "Strings are 'objects' in that they have 'methods'. Methods are functions that act on the particular instance of a string object. You can access the methods by putting a dot after the variable name and then the method name with parentheses (and any arguments to the method within the parentheses). Methods always have to have parentheses, even if they are empty."
   ]
  },
  {
   "cell_type": "code",
   "execution_count": 27,
   "metadata": {},
   "outputs": [
    {
     "data": {
      "text/plain": [
       "'Strings can \\nalso go \\'over\\'\\nmultiple \"lines\".'"
      ]
     },
     "execution_count": 27,
     "metadata": {},
     "output_type": "execute_result"
    }
   ],
   "source": [
    "s3.capitalize()"
   ]
  },
  {
   "cell_type": "markdown",
   "metadata": {},
   "source": [
    "One of the most useful string methods is 'split' that returns a list of the words in a string, with all of the whitespace (actual spaces, newlines, and tabs) removed. More on lists next."
   ]
  },
  {
   "cell_type": "code",
   "execution_count": 28,
   "metadata": {},
   "outputs": [
    {
     "data": {
      "text/plain": [
       "['strings', 'can', 'also', 'go', \"'over'\", 'multiple', '\"lines\".']"
      ]
     },
     "execution_count": 28,
     "metadata": {},
     "output_type": "execute_result"
    }
   ],
   "source": [
    "s3.split()"
   ]
  },
  {
   "cell_type": "markdown",
   "metadata": {},
   "source": [
    "Another common thing that is done with strings is the `join` method. It can be used to join a sequence of strings given a common conjunction"
   ]
  },
  {
   "cell_type": "code",
   "execution_count": 29,
   "metadata": {},
   "outputs": [
    {
     "data": {
      "text/plain": [
       "'strings_can_also_go_\\'over\\'_multiple_\"lines\".'"
      ]
     },
     "execution_count": 29,
     "metadata": {},
     "output_type": "execute_result"
    }
   ],
   "source": [
    "words = s3.split()\n",
    "'_'.join(words)        # Here, we are using a method directly on the string '_' itself."
   ]
  },
  {
   "cell_type": "markdown",
   "metadata": {},
   "source": [
    "# G. Containers\n",
    "\n",
    "Often you need lists or sequences of different values (e.g., a timeseries of temperature – a list of values representing the temperature on sequential days). There are three containers in the core python language. There are a few more specialized containers (e.g., numpy arrays and pandas dataframes) for use in scientific computing that we will learn much more about later; they are very similar to the containers we will learn about here."
   ]
  },
  {
   "cell_type": "markdown",
   "metadata": {},
   "source": [
    "## Lists\n",
    "\n",
    "Lists are perhaps the most common container type. They are used for sequential data. Create them with square brackets with comma separated values within:"
   ]
  },
  {
   "cell_type": "code",
   "execution_count": 30,
   "metadata": {},
   "outputs": [
    {
     "data": {
      "text/plain": [
       "list"
      ]
     },
     "execution_count": 30,
     "metadata": {},
     "output_type": "execute_result"
    }
   ],
   "source": [
    "foo = [1., 2., 3, 'four', 'five', [6., 7., 8], 'nine']\n",
    "type(foo)"
   ]
  },
  {
   "cell_type": "markdown",
   "metadata": {},
   "source": [
    "Note that lists (unlike arrays, as we will later learn) can be heterogeneous. That is, the elements in the list don't have to have the same kind of data type. Here we have a list with floats, ints, strings, and even another (nested) list!\n",
    "\n",
    "We can retrieve the individual elements of a list by 'indexing' the list. We do this with square brackets, using zero-based indexes – that is `0` is the first element – as such:"
   ]
  },
  {
   "cell_type": "code",
   "execution_count": 31,
   "metadata": {},
   "outputs": [
    {
     "data": {
      "text/plain": [
       "1.0"
      ]
     },
     "execution_count": 31,
     "metadata": {},
     "output_type": "execute_result"
    }
   ],
   "source": [
    "foo[0]"
   ]
  },
  {
   "cell_type": "code",
   "execution_count": 32,
   "metadata": {},
   "outputs": [
    {
     "data": {
      "text/plain": [
       "[6.0, 7.0, 8]"
      ]
     },
     "execution_count": 32,
     "metadata": {},
     "output_type": "execute_result"
    }
   ],
   "source": [
    "foo[5]"
   ]
  },
  {
   "cell_type": "code",
   "execution_count": 33,
   "metadata": {},
   "outputs": [
    {
     "data": {
      "text/plain": [
       "7.0"
      ]
     },
     "execution_count": 33,
     "metadata": {},
     "output_type": "execute_result"
    }
   ],
   "source": [
    "foo[5][1]  # Python is sequential, we can access an element within an element using sequential indexing."
   ]
  },
  {
   "cell_type": "code",
   "execution_count": 34,
   "metadata": {},
   "outputs": [
    {
     "data": {
      "text/plain": [
       "'nine'"
      ]
     },
     "execution_count": 34,
     "metadata": {},
     "output_type": "execute_result"
    }
   ],
   "source": [
    "foo[-1]    # This is the way to access the last element."
   ]
  },
  {
   "cell_type": "code",
   "execution_count": 35,
   "metadata": {},
   "outputs": [
    {
     "data": {
      "text/plain": [
       "'five'"
      ]
     },
     "execution_count": 35,
     "metadata": {},
     "output_type": "execute_result"
    }
   ],
   "source": [
    "foo[-3]    # ...and the third to last element"
   ]
  },
  {
   "cell_type": "code",
   "execution_count": 36,
   "metadata": {},
   "outputs": [
    {
     "data": {
      "text/plain": [
       "'v'"
      ]
     },
     "execution_count": 36,
     "metadata": {},
     "output_type": "execute_result"
    }
   ],
   "source": [
    "foo[-3][2]   # we can also index strings."
   ]
  },
  {
   "cell_type": "markdown",
   "metadata": {},
   "source": [
    "We can get a sub-sequence from the list by giving a range of the data to extract. This is done by using the format\n",
    "\n",
    "    start:stop:stride\n",
    "\n",
    "where `start` is the first element, up to but not including the element indexed by `stop`, taking every `stride` elements. The defaluts are start at the beginning, include through the end, and include every element. \n",
    "\n",
    "The up-to-but-not-including part is confusing to first time Python users, but makes sense given the zero-based indexing. For example, `foo[:10]` gives the first ten elements of a sequence."
   ]
  },
  {
   "cell_type": "code",
   "execution_count": 37,
   "metadata": {},
   "outputs": [],
   "source": [
    "# create a sequence of 10 elements, starting with zero, up to but not including 10.\n",
    "bar = [0, 1, 2, 3, 4, 5, 6, 7, 8, 9]"
   ]
  },
  {
   "cell_type": "code",
   "execution_count": 38,
   "metadata": {},
   "outputs": [
    {
     "data": {
      "text/plain": [
       "[2, 3, 4]"
      ]
     },
     "execution_count": 38,
     "metadata": {},
     "output_type": "execute_result"
    }
   ],
   "source": [
    "bar[2:5]"
   ]
  },
  {
   "cell_type": "code",
   "execution_count": 39,
   "metadata": {},
   "outputs": [
    {
     "data": {
      "text/plain": [
       "[0, 1, 2, 3]"
      ]
     },
     "execution_count": 39,
     "metadata": {},
     "output_type": "execute_result"
    }
   ],
   "source": [
    "bar[:4]"
   ]
  },
  {
   "cell_type": "code",
   "execution_count": 40,
   "metadata": {},
   "outputs": [
    {
     "data": {
      "text/plain": [
       "[0, 1, 2, 3, 4, 5, 6, 7, 8, 9]"
      ]
     },
     "execution_count": 40,
     "metadata": {},
     "output_type": "execute_result"
    }
   ],
   "source": [
    "bar[:]"
   ]
  },
  {
   "cell_type": "code",
   "execution_count": 41,
   "metadata": {},
   "outputs": [
    {
     "data": {
      "text/plain": [
       "[0, 2, 4, 6, 8]"
      ]
     },
     "execution_count": 41,
     "metadata": {},
     "output_type": "execute_result"
    }
   ],
   "source": [
    "bar[::2]"
   ]
  },
  {
   "cell_type": "markdown",
   "metadata": {},
   "source": [
    "---\n",
    "###  *Exercise*\n",
    "\n",
    "> Use the list\n",
    "\n",
    "    bar = [0, 1, 2, 3, 4, 5, 6, 7, 8, 9]\n",
    "    \n",
    "> use indexing to get the following sequences:\n",
    "    \n",
    "    \n",
    "    [3, 4, 5]\n",
    "    \n",
    "    [9]        # note this is different than just the last element. \n",
    "               # It is a sequence with only one element, but still a sequence\n",
    "    \n",
    "    [2, 5, 8]\n",
    "\n",
    "> What happens when you exceed the limits of the list?\n",
    "\n",
    "    bar[99]\n",
    "    bar[-99]\n",
    "    bar[5:99]\n",
    "\n",
    "---"
   ]
  },
  {
   "cell_type": "code",
   "execution_count": null,
   "metadata": {},
   "outputs": [],
   "source": []
  },
  {
   "cell_type": "markdown",
   "metadata": {},
   "source": [
    "You can assign values to list elements by putting the indexed list on the right side of the assignment, as"
   ]
  },
  {
   "cell_type": "code",
   "execution_count": 42,
   "metadata": {},
   "outputs": [
    {
     "data": {
      "text/plain": [
       "[0, 1, 2, 3, 4, -99, 6, 7, 8, 9]"
      ]
     },
     "execution_count": 42,
     "metadata": {},
     "output_type": "execute_result"
    }
   ],
   "source": [
    "bar[5] = -99\n",
    "bar"
   ]
  },
  {
   "cell_type": "markdown",
   "metadata": {},
   "source": [
    "This works for sequences as well,"
   ]
  },
  {
   "cell_type": "code",
   "execution_count": 43,
   "metadata": {},
   "outputs": [
    {
     "data": {
      "text/plain": [
       "[0, 1, 1, 1, 1, 1, 1, 1, 1, 1, 7, 8, 9]"
      ]
     },
     "execution_count": 43,
     "metadata": {},
     "output_type": "execute_result"
    }
   ],
   "source": [
    "bar[2:7] = [1, 1, 1, 1, 1, 1, 1, 1]\n",
    "bar"
   ]
  },
  {
   "cell_type": "markdown",
   "metadata": {},
   "source": [
    "Lists are also 'objects'; they also have 'methods'. Methods are functions that are designed to be applied to the data contained in the list. You can access them by putting a dot and the method name after the variable (called an 'object instance')"
   ]
  },
  {
   "cell_type": "code",
   "execution_count": 44,
   "metadata": {},
   "outputs": [
    {
     "data": {
      "text/plain": [
       "[0, 1, 1, 1, 1, 'here', 1, 1, 1, 1, 1, 7, 8, 9]"
      ]
     },
     "execution_count": 44,
     "metadata": {},
     "output_type": "execute_result"
    }
   ],
   "source": [
    "bar.insert(5, 'here')\n",
    "bar"
   ]
  },
  {
   "cell_type": "code",
   "execution_count": 45,
   "metadata": {},
   "outputs": [
    {
     "data": {
      "text/plain": [
       "[3, 3, 4, 5, 5, 6, 6, 7, 7, 7, 9]"
      ]
     },
     "execution_count": 45,
     "metadata": {},
     "output_type": "execute_result"
    }
   ],
   "source": [
    "bar = [4, 5, 6, 7, 3, 6, 7, 3, 5, 7, 9]\n",
    "bar.sort()    # Note that we don't do 'bar = bar.sort()'. The sorting is done in place.\n",
    "bar"
   ]
  },
  {
   "cell_type": "markdown",
   "metadata": {},
   "source": [
    "---\n",
    "### *Exercise*\n",
    "\n",
    "> What other methods are there? Type `bar.` and then `<TAB>`. This will show the possible completions, which in this case is a list of the methods and attributes. You can get help on a method by typing, for example, `bar.pop?`.  The text in the help file is called a `docstring`; as we will see below, you can write these for your own functions.\n",
    "\n",
    "> See if you can use these four methods of the list instance `bar`:\n",
    "\n",
    "            1. append\n",
    "            2. pop\n",
    "            3. index\n",
    "            4. count\n",
    "\n",
    "\n",
    "---"
   ]
  },
  {
   "cell_type": "code",
   "execution_count": null,
   "metadata": {},
   "outputs": [],
   "source": []
  },
  {
   "cell_type": "markdown",
   "metadata": {},
   "source": [
    "## Tuples\n",
    "\n",
    "Tuples (pronounced `too'-puls`) are sequences that can't be modified, and don't have methods. Thus, they are designed to be immutable sequences. They are created like lists, but with parentheses instead of square brackets."
   ]
  },
  {
   "cell_type": "code",
   "execution_count": 46,
   "metadata": {},
   "outputs": [],
   "source": [
    "foo = (3, 5, 7, 9)\n",
    "# foo[2] = -999  # gives an assignment error. Commented so that all cells run."
   ]
  },
  {
   "cell_type": "markdown",
   "metadata": {},
   "source": [
    "Tuples are often used when a function has multiple outputs, or as a lightweight storage container. Becuase of this, you don't need to put the parentheses around them, and can assign multiple values at a time."
   ]
  },
  {
   "cell_type": "code",
   "execution_count": 47,
   "metadata": {},
   "outputs": [
    {
     "name": "stdout",
     "output_type": "stream",
     "text": [
      "2\n"
     ]
    }
   ],
   "source": [
    "a, b, c = 1, 2, 3   # Equivalent to '(a, b, c) = (1, 2, 3)'\n",
    "print(b)"
   ]
  },
  {
   "cell_type": "markdown",
   "metadata": {},
   "source": [
    "## Dictionaries\n",
    "\n",
    "Dictionaries are used for unordered sequences that are referenced by arbitrary 'keys' instead of by a (sequential) index. Dictionaries are created using curly braces with keys and values separated by a colon, and key:value pairs separated by commas, as"
   ]
  },
  {
   "cell_type": "code",
   "execution_count": 48,
   "metadata": {},
   "outputs": [],
   "source": [
    "foobar = {'a':3, 'b':4, 'c':5}"
   ]
  },
  {
   "cell_type": "markdown",
   "metadata": {},
   "source": [
    "Elements are referenced and assigned by keys:"
   ]
  },
  {
   "cell_type": "code",
   "execution_count": 49,
   "metadata": {},
   "outputs": [
    {
     "data": {
      "text/plain": [
       "4"
      ]
     },
     "execution_count": 49,
     "metadata": {},
     "output_type": "execute_result"
    }
   ],
   "source": [
    "foobar['b']"
   ]
  },
  {
   "cell_type": "code",
   "execution_count": 50,
   "metadata": {},
   "outputs": [
    {
     "data": {
      "text/plain": [
       "{'a': 3, 'b': 4, 'c': -99}"
      ]
     },
     "execution_count": 50,
     "metadata": {},
     "output_type": "execute_result"
    }
   ],
   "source": [
    "foobar['c'] = -99\n",
    "foobar"
   ]
  },
  {
   "cell_type": "markdown",
   "metadata": {},
   "source": [
    "The keys and values can be extracted as lists using methods of the dictionary class."
   ]
  },
  {
   "cell_type": "code",
   "execution_count": 51,
   "metadata": {},
   "outputs": [
    {
     "data": {
      "text/plain": [
       "dict_keys(['a', 'b', 'c'])"
      ]
     },
     "execution_count": 51,
     "metadata": {},
     "output_type": "execute_result"
    }
   ],
   "source": [
    "foobar.keys()"
   ]
  },
  {
   "cell_type": "code",
   "execution_count": 52,
   "metadata": {},
   "outputs": [
    {
     "data": {
      "text/plain": [
       "dict_values([3, 4, -99])"
      ]
     },
     "execution_count": 52,
     "metadata": {},
     "output_type": "execute_result"
    }
   ],
   "source": [
    "foobar.values()"
   ]
  },
  {
   "cell_type": "markdown",
   "metadata": {},
   "source": [
    "New values can be assigned simply by assigning a value to a key that does not exist yet"
   ]
  },
  {
   "cell_type": "code",
   "execution_count": 53,
   "metadata": {},
   "outputs": [
    {
     "data": {
      "text/plain": [
       "{'a': 3, 'b': 4, 'c': -99, 'spam': 'eggs'}"
      ]
     },
     "execution_count": 53,
     "metadata": {},
     "output_type": "execute_result"
    }
   ],
   "source": [
    "foobar['spam'] = 'eggs'\n",
    "foobar"
   ]
  },
  {
   "cell_type": "markdown",
   "metadata": {},
   "source": [
    "---\n",
    "### *Exercise*\n",
    "\n",
    "> Create a dictionary variable with at least 3 entries. The entry keys should be the first name of people around you in the class, and the value should be their favorite food.\n",
    "\n",
    "> Explore the methods of the dictionary object, as was done with the list instance in the previous exercise.\n",
    "\n",
    "\n",
    "---"
   ]
  },
  {
   "cell_type": "code",
   "execution_count": null,
   "metadata": {},
   "outputs": [],
   "source": []
  },
  {
   "cell_type": "markdown",
   "metadata": {},
   "source": [
    "You can make an empty dictionary or list by using the `dict` and `list` functions respectively."
   ]
  },
  {
   "cell_type": "code",
   "execution_count": 54,
   "metadata": {},
   "outputs": [
    {
     "name": "stdout",
     "output_type": "stream",
     "text": [
      "{} []\n"
     ]
    }
   ],
   "source": [
    "empty_dict = dict()\n",
    "empty_list = list()\n",
    "print(empty_dict, empty_list)"
   ]
  },
  {
   "cell_type": "markdown",
   "metadata": {},
   "source": [
    "# H. Logical Operators\n",
    "\n",
    "You can compare statements that evaluate to a boolean value with the logical `and` and `or`. We can first think about this with boolean values directly:"
   ]
  },
  {
   "cell_type": "code",
   "execution_count": 5,
   "metadata": {},
   "outputs": [
    {
     "data": {
      "text/plain": [
       "(True, False)"
      ]
     },
     "execution_count": 5,
     "metadata": {},
     "output_type": "execute_result"
    }
   ],
   "source": [
    "True and True, True and False"
   ]
  },
  {
   "cell_type": "code",
   "execution_count": 6,
   "metadata": {},
   "outputs": [
    {
     "data": {
      "text/plain": [
       "(True, True)"
      ]
     },
     "execution_count": 6,
     "metadata": {},
     "output_type": "execute_result"
    }
   ],
   "source": [
    "True or True, True or False"
   ]
  },
  {
   "cell_type": "markdown",
   "metadata": {},
   "source": [
    "Note that you can also use the word `not` to switch the meaning of a boolean:"
   ]
  },
  {
   "cell_type": "code",
   "execution_count": 18,
   "metadata": {},
   "outputs": [
    {
     "data": {
      "text/plain": [
       "(False, True)"
      ]
     },
     "execution_count": 18,
     "metadata": {},
     "output_type": "execute_result"
    }
   ],
   "source": [
    "not True, not False"
   ]
  },
  {
   "cell_type": "markdown",
   "metadata": {},
   "source": [
    "Now let's look at this with actual test examples instead of direct boolean values:"
   ]
  },
  {
   "cell_type": "code",
   "execution_count": 23,
   "metadata": {},
   "outputs": [
    {
     "data": {
      "text/plain": [
       "True"
      ]
     },
     "execution_count": 23,
     "metadata": {},
     "output_type": "execute_result"
    }
   ],
   "source": [
    "word = 'the'\n",
    "sentence1 = 'the big brown dog'\n",
    "sentence2 = 'I stand at the fridge'\n",
    "sentence3 = 'go outside'\n",
    "\n",
    "(word in sentence1) and (word in sentence2)"
   ]
  },
  {
   "cell_type": "code",
   "execution_count": 24,
   "metadata": {},
   "outputs": [
    {
     "data": {
      "text/plain": [
       "False"
      ]
     },
     "execution_count": 24,
     "metadata": {},
     "output_type": "execute_result"
    }
   ],
   "source": [
    "(word in sentence1) and (word in sentence2) and (word in sentence3)"
   ]
  },
  {
   "cell_type": "code",
   "execution_count": 25,
   "metadata": {},
   "outputs": [
    {
     "data": {
      "text/plain": [
       "True"
      ]
     },
     "execution_count": 25,
     "metadata": {},
     "output_type": "execute_result"
    }
   ],
   "source": [
    "(word in sentence1) or (word in sentence2) or (word in sentence3)"
   ]
  },
  {
   "cell_type": "code",
   "execution_count": 20,
   "metadata": {},
   "outputs": [
    {
     "data": {
      "text/plain": [
       "(True, True)"
      ]
     },
     "execution_count": 20,
     "metadata": {},
     "output_type": "execute_result"
    }
   ],
   "source": [
    "x = 20\n",
    "5 < x < 30, 5 < x and x < 30"
   ]
  },
  {
   "cell_type": "markdown",
   "metadata": {},
   "source": [
    "# I. Loops\n",
    "\n",
    "### For loops\n",
    "\n",
    "Loops are one of the fundamental structures in programming. Loops allow you to iterate over each element in a sequence, one at a time, and do something with those elements.\n",
    "\n",
    "*Loop syntax*: Loops have a very particular syntax in Python; this syntax is one of the most notable features to Python newcomers. The format looks like\n",
    "\n",
    "    for *element* in *sequence*:                # NOTE the colon at the end\n",
    "        <some code that uses the *element*>     # the block of code that is looped over for each element\n",
    "        <more code that uses the *element*>     # is indented four spaces (yes four! yes spaces!)\n",
    "    \n",
    "    <the code after the loop continues>         # the end of the loop is marked simply by unindented code\n",
    "    \n",
    "Thus, indentation is significant to the code. This was done because good coding practice (in almost all languages, C, FORTRAN, MATLAB) typically indents loops, functions, etc. Having indentation be significant saves the end of loop syntax for more compact code.\n",
    "\n",
    "*Some important notes on indentation*  Indentation in python is typically *4 spaces*. Most programming text editors will be smart about indentation, and will also convert TABs to four spaces. Jupyter notebooks are smart about indentation, and will do the right thing, i.e., autoindent a line below a line with a trailing colon, and convert TABs to spaces. If you are in another editor remember: ___TABS AND SPACES DO NOT MIX___. See [PEP-8](https://www.python.org/dev/peps/pep-0008/) for more information on the correct formatting of Python code.\n",
    "\n",
    "A simple example is to find the sum of the squares of the sequence 0 through 99,"
   ]
  },
  {
   "cell_type": "code",
   "execution_count": 55,
   "metadata": {},
   "outputs": [
    {
     "name": "stdout",
     "output_type": "stream",
     "text": [
      "328350\n"
     ]
    }
   ],
   "source": [
    "sum_of_squares = 0\n",
    "\n",
    "for n in range(100):              # range yields a sequence of numbers from 0 up to but not including 100\n",
    "    sum_of_squares += n**2        # the '+=' operator is equivalent to 'sum = sum + n**2', \n",
    "                                  # the '**' operator is a power, like '^' in other languages\n",
    "\n",
    "print(sum_of_squares)"
   ]
  },
  {
   "cell_type": "markdown",
   "metadata": {},
   "source": [
    "You can iterate over any sequence, and in Python (like MATLAB) it is better to iterate over the sequence you want than to loop over the indices of that sequence. The following two examples give the same result, but the first is much more readable and easily understood than the second. Do the first whenever possible."
   ]
  },
  {
   "cell_type": "code",
   "execution_count": 56,
   "metadata": {},
   "outputs": [
    {
     "data": {
      "text/plain": [
       "'the quick brown fox jumped over the lazy dog '"
      ]
     },
     "execution_count": 56,
     "metadata": {},
     "output_type": "execute_result"
    }
   ],
   "source": [
    "# THIS IS BETTER THAN THE NEXT CODE BLOCK. DO IT THIS WAY.\n",
    "words = ['the', 'quick', 'brown', 'fox', 'jumped', 'over', 'the', 'lazy', 'dog']\n",
    "\n",
    "sentence = ''  # this initializes a string which we can then add onto\n",
    "for word in words:\n",
    "    sentence += word + ' '\n",
    "\n",
    "sentence"
   ]
  },
  {
   "cell_type": "code",
   "execution_count": 57,
   "metadata": {},
   "outputs": [
    {
     "data": {
      "text/plain": [
       "'the quick brown fox jumped over the lazy dog '"
      ]
     },
     "execution_count": 57,
     "metadata": {},
     "output_type": "execute_result"
    }
   ],
   "source": [
    "# DON'T DO IT THIS WAY IF POSSIBLE, DO IT THE WAY IN THE PREVIOUS CODE BLOCK.\n",
    "words = ['the', 'quick', 'brown', 'fox', 'jumped', 'over', 'the', 'lazy', 'dog']\n",
    "\n",
    "sentence = ''\n",
    "for i in range(len(words)):\n",
    "    sentence += words[i] + ' '\n",
    "\n",
    "sentence"
   ]
  },
  {
   "cell_type": "markdown",
   "metadata": {},
   "source": [
    "Sometimes you want to iterate over a sequence but you *also* want the indices of those elements. One way to do that is the `enumerate` function:\n",
    "\n",
    "    enumerate(<sequence>)\n",
    "\n",
    "This returns a sequence of two element tuples, the first element in each tuple is the index, the second the element. It is commonly used in `for` loops, like"
   ]
  },
  {
   "cell_type": "code",
   "execution_count": 58,
   "metadata": {},
   "outputs": [
    {
     "name": "stdout",
     "output_type": "stream",
     "text": [
      "The index is 0 ...\n",
      "...and the word is the\n",
      "The index is 1 ...\n",
      "...and the word is quick\n",
      "The index is 2 ...\n",
      "...and the word is brown\n",
      "The index is 3 ...\n",
      "...and the word is fox\n",
      "The index is 4 ...\n",
      "...and the word is jumped\n",
      "The index is 5 ...\n",
      "...and the word is over\n",
      "The index is 6 ...\n",
      "...and the word is the\n",
      "The index is 7 ...\n",
      "...and the word is lazy\n",
      "The index is 8 ...\n",
      "...and the word is dog\n"
     ]
    }
   ],
   "source": [
    "for idx, word in enumerate(words):\n",
    "    print('The index is', idx, '...')\n",
    "    print('...and the word is', word)"
   ]
  },
  {
   "cell_type": "markdown",
   "metadata": {},
   "source": [
    "### List comprehension\n",
    "\n",
    "There is a short way to make a list from a simple rule by using list comprehensions. The syntax is like\n",
    "\n",
    "    [<element(item)> for item in sequence]\n",
    "    \n",
    "for example, we can calculate the squares of the first 10 integers"
   ]
  },
  {
   "cell_type": "code",
   "execution_count": 59,
   "metadata": {},
   "outputs": [
    {
     "data": {
      "text/plain": [
       "[0, 1, 4, 9, 16, 25, 36, 49, 64, 81]"
      ]
     },
     "execution_count": 59,
     "metadata": {},
     "output_type": "execute_result"
    }
   ],
   "source": [
    "[n**2 for n in range(10)]"
   ]
  },
  {
   "cell_type": "markdown",
   "metadata": {},
   "source": [
    "The `element` can be any code snippet that depends on the `item`. This example gives a sequence of boolean values that determine if the element in a list is a string."
   ]
  },
  {
   "cell_type": "code",
   "execution_count": 60,
   "metadata": {},
   "outputs": [
    {
     "data": {
      "text/plain": [
       "[False, False, True, False, False]"
      ]
     },
     "execution_count": 60,
     "metadata": {},
     "output_type": "execute_result"
    }
   ],
   "source": [
    "random_list = [1, 2, 'three', 4.0, ['five',]]\n",
    "[isinstance(item, str) for item in random_list]"
   ]
  },
  {
   "cell_type": "code",
   "execution_count": 61,
   "metadata": {},
   "outputs": [
    {
     "data": {
      "text/plain": [
       "[False, False, True, False, False]"
      ]
     },
     "execution_count": 61,
     "metadata": {},
     "output_type": "execute_result"
    }
   ],
   "source": [
    "random_list = [1, 2, 'three', 4.0, ['five',]]\n",
    "\n",
    "foo = []\n",
    "for item in random_list:\n",
    "    foo.append(isinstance(item, str))\n",
    "foo"
   ]
  },
  {
   "cell_type": "markdown",
   "metadata": {},
   "source": [
    "---\n",
    "### *Exercise*\n",
    "\n",
    "> Modify the previous list comprehension to test if the elements are integers.\n",
    "\n",
    "---"
   ]
  },
  {
   "cell_type": "markdown",
   "metadata": {},
   "source": [
    "### While loops\n",
    "\n",
    "The majority of loops that you will write will be `for` loops. These are loops that have a defined number of iterations, over a specified sequence. However, there may be times when it is not clear when the loop should terminate. In this case, you use a `while` loop. This has the syntax\n",
    "\n",
    "    while <condition>:\n",
    "        <code>\n",
    "\n",
    "`condition` should be something that can be evaluated when the loop is started, and the variables that determine the conditional should be modified in the loop.\n",
    "\n",
    "This kind of loop should be use carefully — it is relatively easy to accidentally create an infinite loop, where the condition never is triggered to stop so the loop continues forever. This is especially important to avoid given that we are using shared resources in our class and a `while` loop that never ends can cause the computer the crash."
   ]
  },
  {
   "cell_type": "code",
   "execution_count": 36,
   "metadata": {},
   "outputs": [
    {
     "name": "stdout",
     "output_type": "stream",
     "text": [
      "4\n",
      "3\n",
      "2\n",
      "1\n",
      "0\n"
     ]
    }
   ],
   "source": [
    "n = 5         # starting value\n",
    "while n > 0:\n",
    "    n -= 1    # subtract 1 each loop\n",
    "    print(n)  # look at value of n"
   ]
  },
  {
   "cell_type": "markdown",
   "metadata": {},
   "source": [
    "### Flow control\n",
    "\n",
    "There are a few commands that allow you to control the flow of any iterative loop: `continue`, `break`, and `pass`.\n",
    "\n",
    "- `continue` stops the current iteration and continues to the next element, if there is one.\n",
    "\n",
    "- `break` stops the current iteration, and leaves the loop.\n",
    "\n",
    "- `pass` does nothing, and is just a placeholder when syntax requires some code needs to be present"
   ]
  },
  {
   "cell_type": "code",
   "execution_count": 64,
   "metadata": {},
   "outputs": [
    {
     "name": "stdout",
     "output_type": "stream",
     "text": [
      "0\n",
      "1\n",
      "2\n",
      "3\n",
      "4\n",
      "6\n",
      "7\n",
      "8\n",
      "9\n"
     ]
    }
   ],
   "source": [
    "# print all the numbers, except 5\n",
    "\n",
    "for n in range(10):\n",
    "    if n == 5:\n",
    "        continue\n",
    "    print(n)\n"
   ]
  },
  {
   "cell_type": "code",
   "execution_count": 65,
   "metadata": {},
   "outputs": [
    {
     "name": "stdout",
     "output_type": "stream",
     "text": [
      ".\n",
      "0\n",
      ".\n",
      "1\n",
      ".\n",
      "2\n",
      ".\n",
      "3\n",
      ".\n",
      "4\n",
      ".\n",
      "done\n"
     ]
    }
   ],
   "source": [
    "# print all the numbers up to (but not including) 5, then break out of the loop.\n",
    "\n",
    "for n in range(10):\n",
    "    print('.')\n",
    "    if n == 5:\n",
    "        break\n",
    "    print(n)\n",
    "\n",
    "print('done')\n"
   ]
  },
  {
   "cell_type": "code",
   "execution_count": 66,
   "metadata": {},
   "outputs": [
    {
     "name": "stdout",
     "output_type": "stream",
     "text": [
      "2\n"
     ]
    }
   ],
   "source": [
    "# pass can be used for empty functions or classes, \n",
    "# or in loops (in which case it is usually a placeholder for future code)\n",
    "\n",
    "def foo(x):\n",
    "    pass\n",
    "\n",
    "class Foo(object):\n",
    "    pass\n",
    "\n",
    "x = 2\n",
    "if x == 1:\n",
    "    pass        # could just leave this part of the code out entirely...\n",
    "elif x == 2:\n",
    "    print(x)"
   ]
  },
  {
   "cell_type": "markdown",
   "metadata": {
    "collapsed": true
   },
   "source": [
    "# J. Functions\n",
    "\n",
    "Functions are ways to create reusable blocks of code that can be run with different variable values – the input variables to the function. Functions are defined using the syntax\n",
    "\n",
    "    def <function name> (var1, var2, ...):\n",
    "        <block of code...>\n",
    "        <...defining the function>\n",
    "        return <return variable(s)>\n",
    "\n",
    "Functions can be defined at any point in the code, and called at any subsequent point."
   ]
  },
  {
   "cell_type": "code",
   "execution_count": 67,
   "metadata": {},
   "outputs": [
    {
     "data": {
      "text/plain": [
       "8.1415"
      ]
     },
     "execution_count": 67,
     "metadata": {},
     "output_type": "execute_result"
    }
   ],
   "source": [
    "def addfive(x):\n",
    "    return x+5\n",
    "\n",
    "addfive(3.1415)"
   ]
  },
  {
   "cell_type": "markdown",
   "metadata": {},
   "source": [
    "## Function inputs and outputs\n",
    "\n",
    "Functions can have multiple input and output values. The documentation for the function can (and should) be provided as a string at the beginning of the function."
   ]
  },
  {
   "cell_type": "code",
   "execution_count": 68,
   "metadata": {},
   "outputs": [
    {
     "name": "stdout",
     "output_type": "stream",
     "text": [
      "12\n",
      "50\n"
     ]
    }
   ],
   "source": [
    "def sasos(a, b, c):\n",
    "    '''return the sum of a, b, and c and the sum of the squares of a, b, and c'''\n",
    "    res1 = a + b + c\n",
    "    res2 = a**2 + b**2 + c**2\n",
    "    return res1, res2\n",
    "\n",
    "s, ss = sasos(3, 4, 5)\n",
    "print(s)\n",
    "print(ss)"
   ]
  },
  {
   "cell_type": "markdown",
   "metadata": {},
   "source": [
    "Functions can have variables with default values. You can also specify positional variables out of order if they are labeled explicitly."
   ]
  },
  {
   "cell_type": "code",
   "execution_count": 69,
   "metadata": {},
   "outputs": [
    {
     "name": "stdout",
     "output_type": "stream",
     "text": [
      "75.0\n",
      "309.0\n",
      "23.0\n"
     ]
    }
   ],
   "source": [
    "def powsum(x, y, z, a=1, b=2, c=3):\n",
    "    return x**a + y**b + z**c\n",
    "\n",
    "print( powsum(2., 3., 4.) )\n",
    "print( powsum(2., 3., 4., b=5) )\n",
    "print( powsum(z=2., c=2, x=3., y=4.) )"
   ]
  },
  {
   "cell_type": "markdown",
   "metadata": {},
   "source": [
    "---\n",
    "### *Exercise*\n",
    "\n",
    "> Verify `powsum(z=2., x=3., y=4., c=2)` is the same as `powsum(3., 4., 2., c=2)`\n",
    "\n",
    "> What happens when you do `powsum(3., 4., 2., x=2)`?  Why?\n",
    "\n",
    "---"
   ]
  },
  {
   "cell_type": "code",
   "execution_count": null,
   "metadata": {},
   "outputs": [],
   "source": []
  },
  {
   "cell_type": "markdown",
   "metadata": {},
   "source": [
    "---\n",
    "### *Exercise*\n",
    "\n",
    "> Write a function that takes in a list of numbers and returns two lists of numbers: the odd numbers in the list and the even numbers in the list. That is, if your function is called `odds_evens()`, it should work as follows:\n",
    "\n",
    "    >>> odds, evens = odds_evens([1,5,2,8,3,4])\n",
    "    >>> odds, evens\n",
    "    ([1, 5, 3], [2, 8, 4])\n",
    "\n",
    "    \n",
    "> Note that `x % y` gives the remainder of `x/y`.\n",
    "\n",
    "> How would you change the code to make a counter (the index) available each loop?\n",
    "\n",
    "---"
   ]
  },
  {
   "cell_type": "code",
   "execution_count": null,
   "metadata": {},
   "outputs": [],
   "source": []
  },
  {
   "cell_type": "markdown",
   "metadata": {},
   "source": [
    "## Docstrings\n",
    "\n",
    "You can add 'help' text to functions (and classes) by adding a 'docstring', which is just a regular string, right below the definition of the function. This should be considered a mandatory step in your code writing."
   ]
  },
  {
   "cell_type": "code",
   "execution_count": 70,
   "metadata": {},
   "outputs": [],
   "source": [
    "def addfive(x):\n",
    "    '''Return the argument plus five\n",
    "    \n",
    "    Input : x\n",
    "            A number\n",
    "    \n",
    "    Output: foo\n",
    "            The number x plus five\n",
    "    \n",
    "    '''\n",
    "    return x+5\n",
    "\n",
    "\n",
    "# now, try addfive?\n",
    "addfive?"
   ]
  },
  {
   "cell_type": "markdown",
   "metadata": {},
   "source": [
    "See [PEP-257](https://www.python.org/dev/peps/pep-0257/) for guidelines about writing good docstrings."
   ]
  },
  {
   "cell_type": "markdown",
   "metadata": {},
   "source": [
    "## Scope\n",
    "\n",
    "Variables within the function are treated as 'local' variables, and do not affect variables outside of the 'scope' of the function. That is, all of the variables that are changed within the block of code inside a function are only changed within that block, and do not affect similarly named variables outside the function."
   ]
  },
  {
   "cell_type": "code",
   "execution_count": 71,
   "metadata": {},
   "outputs": [
    {
     "name": "stdout",
     "output_type": "stream",
     "text": [
      "Inside changex, x= 15.0\n",
      "15.0\n",
      "5\n"
     ]
    }
   ],
   "source": [
    "x = 5\n",
    "\n",
    "def changex(x):      # This x is local to the function\n",
    "    x += 10.         # here the local variable x is changed\n",
    "    print('Inside changex, x=', x)\n",
    "    return x\n",
    "\n",
    "res = changex(x)    # supply the value of x in the 'global' scope.\n",
    "print(res)          \n",
    "print(x)            # The global x is unchanged"
   ]
  },
  {
   "cell_type": "markdown",
   "metadata": {},
   "source": [
    "Variables from the 'global' scope can be used within a function, as long as those variables are unchanged. This technique should generally only be used when it is very clear what value the global variable has, for example, in very short helper functions."
   ]
  },
  {
   "cell_type": "code",
   "execution_count": 72,
   "metadata": {},
   "outputs": [
    {
     "name": "stdout",
     "output_type": "stream",
     "text": [
      "8.0\n",
      "5\n"
     ]
    }
   ],
   "source": [
    "x = 5\n",
    "\n",
    "def dostuffwithx(y):\n",
    "    res = y + x       # Here, the global value of x is used, since it is not defined inside the function.\n",
    "    return res\n",
    "\n",
    "print(dostuffwithx(3.0))\n",
    "print(x)"
   ]
  },
  {
   "cell_type": "markdown",
   "metadata": {},
   "source": [
    "### [Packing and unpacking](https://docs.python.org/2/tutorial/controlflow.html#unpacking-argument-lists) function arguments\n",
    "\n",
    "You can provide a sequence of arguments to a function by placing a `*` in front of the sequence, like\n",
    "\n",
    "    foo(*args)\n",
    "\n",
    "This unpacks the elements of the sequence into the arguments of the function, in order. "
   ]
  },
  {
   "cell_type": "code",
   "execution_count": 73,
   "metadata": {},
   "outputs": [
    {
     "data": {
      "text/plain": [
       "[3, 4, 5]"
      ]
     },
     "execution_count": 73,
     "metadata": {},
     "output_type": "execute_result"
    }
   ],
   "source": [
    "list(range(3, 6))            # normal call with separate arguments"
   ]
  },
  {
   "cell_type": "code",
   "execution_count": 74,
   "metadata": {},
   "outputs": [
    {
     "data": {
      "text/plain": [
       "[3, 4, 5]"
      ]
     },
     "execution_count": 74,
     "metadata": {},
     "output_type": "execute_result"
    }
   ],
   "source": [
    "args = [3, 6]\n",
    "list(range(*args))            # call with arguments unpacked from a list"
   ]
  },
  {
   "cell_type": "markdown",
   "metadata": {},
   "source": [
    "You can also unpack dictionaries as keyword arguments by placing `**` in front of the dictionary, like\n",
    "\n",
    "    bar(**kwargs)\n",
    "\n",
    "These can be mixed, to an extent. E.g., `foo(*args, **kwargs)` works.\n",
    "\n",
    "Using our function from earlier, here we call `powsum` first with keyword arguments written in and second by unpacking a dictionary."
   ]
  },
  {
   "cell_type": "code",
   "execution_count": 75,
   "metadata": {},
   "outputs": [
    {
     "name": "stdout",
     "output_type": "stream",
     "text": [
      "384\n",
      "384\n"
     ]
    }
   ],
   "source": [
    "x = 5; y = 6; z = 7\n",
    "powdict = {'a': 1, 'b': 2, 'c': 3}\n",
    "\n",
    "print(powsum(x, y, z, a=1, b=2, c=3))\n",
    "print(powsum(x, y, z, **powdict))"
   ]
  },
  {
   "cell_type": "markdown",
   "metadata": {},
   "source": [
    "One common usage is using the builtin `zip` function to take a 'transpose' of a set of points."
   ]
  },
  {
   "cell_type": "code",
   "execution_count": 76,
   "metadata": {},
   "outputs": [
    {
     "data": {
      "text/plain": [
       "[(1, 'a', 6), (2, 'b', 7), (3, 'c', 8), (4, 'd', 9), (5, 'e', 10)]"
      ]
     },
     "execution_count": 76,
     "metadata": {},
     "output_type": "execute_result"
    }
   ],
   "source": [
    "list(zip((1, 2, 3, 4, 5), ('a', 'b', 'c', 'd', 'e'), (6, 7, 8, 9, 10)))"
   ]
  },
  {
   "cell_type": "code",
   "execution_count": 77,
   "metadata": {},
   "outputs": [
    {
     "name": "stdout",
     "output_type": "stream",
     "text": [
      "(1, 3, 5, 7, 9)\n",
      "(2, 4, 6, 8, 10)\n",
      "[(1, 2), (3, 4), (5, 6), (7, 8), (9, 10)]\n"
     ]
    }
   ],
   "source": [
    "pts = ((1, 2), (3, 4), (5, 6), (7, 8), (9, 10))\n",
    "x, y = list(zip(*pts))\n",
    "\n",
    "print(x)\n",
    "print(y)\n",
    "\n",
    "# and back again,\n",
    "print(list(zip(*(x,y))))"
   ]
  },
  {
   "cell_type": "markdown",
   "metadata": {},
   "source": [
    "# K. Classes\n",
    "\n",
    "*We won't cover classes in this class, but these notes are here for your reference in case you are interested.*\n",
    "\n",
    "Classes are used to define generic objects. The 'instances' of the class are supplied with specific data. Classes define a data structure, 'methods' to work with this data, and 'attributes' that define the data.\n",
    "\n",
    "###### The computer science way to think of classes\n",
    "\n",
    "Think of the class as a sentence. The nouns would be the classes, the associated verbs class methods, and associated adjectives class attributes. For example take the sentence\n",
    "\n",
    "> The white car signals and makes a left turn.\n",
    "\n",
    "In this case the object is a `car`, a generic kind of vehicle. We see in the sentence that we have a particular instance of a `car`, a *white* `car`. Obviously, there can be many instances of the class `car`. White is a defining or distinguishing 'attribute' of the car. There are two 'methods' noted: signaling and turning. We might write the code for a `car` object like this:\n",
    "\n",
    "    class Car(object):\n",
    "        \n",
    "        def __init__(self, color):\n",
    "            self.color = color\n",
    "\n",
    "        def signal(self, direction):\n",
    "            <signalling code>\n",
    "\n",
    "        def turn(self, direction):\n",
    "            <turning code>\n",
    " \n",
    "###### The scientific way to thing about classes\n",
    "\n",
    "Generally, in science we use objects to store and work with complicated data sets, so it is natural to think of the data structure first, and use that to define the class. The methods are functions that work on this data. The attributes hold the data, and other defining characteristics about the dataset (i.e., metadata). The primary advantage of this approach is that the data are in a specified structure, so that the methods can assume this structure and are thereby more efficient.\n",
    "\n",
    "For example, consider a (atmospheric, oceanic, geologic) profile of temperature in the vertical axis. We might create a class that would look like:\n",
    "\n",
    "    class Profile(object):\n",
    "        '''\n",
    "        Documentation describing the object, in particular how it is instantiated.\n",
    "        '''\n",
    "        def __init__(self, z, temp, lat, lon, time):\n",
    "            self.z = z            # A sequence of values defining the vertical positions of the samples\n",
    "            self.property = temp  # A corresponding sequence of temperature values\n",
    "            self.lat = lat        # The latitude at which the profile was taken\n",
    "            self.lon = lon        # The longitude at which the profile was taken\n",
    "            self.time = time      # The time at which the profile was taken\n",
    "\n",
    "        def mean(self):\n",
    "            'return the mean of the profile'\n",
    "            <code to calculate the mean temperature along the profile>\n",
    "\n",
    "Note, there could be a number of different choices for how the data are stored, more variables added to the profile, etc. Designing good classes is essential to the art of computer programming. Make classes as small and agile as possible, building up your code from small, flexible building blocks. Classes should be parsimonious and cogent. Avoid bloat.\n",
    "\n",
    "Classes are traditionally named with a Capitol, sometimes CamelCase, sometimes underlined_words_in_a_row, as opposed to functions which are traditionally lower case (there are many exceptions to these rules, though). When a class instance is created, the special `__init__` function is called to create the class instance. Within the class, the attributes are stored in `self` with a dot and the attribute name. Methods are defined like normal functions, but within the block, and the first argument is always `self`.\n",
    "\n",
    "There are many other special functions, that allow you to, for exmaple, overload the addition operator (`__add__`) or have a representation of the class that resembles the command used to create it (`__repr__`).\n",
    "\n",
    "Consider the example of a class defining a point on a 2D plan:"
   ]
  },
  {
   "cell_type": "code",
   "execution_count": 78,
   "metadata": {},
   "outputs": [
    {
     "name": "stdout",
     "output_type": "stream",
     "text": [
      "p1.norm() =  5.185556864985669\n",
      "p2.norm() =  10.0\n",
      "The distance between p1 and p2 is 4.825971404805461\n",
      "The distance between p2 and p1 is 4.825971404805461\n"
     ]
    },
    {
     "data": {
      "text/plain": [
       "Point(3.300000, 4.000000)"
      ]
     },
     "execution_count": 78,
     "metadata": {},
     "output_type": "execute_result"
    }
   ],
   "source": [
    "from math import sqrt     # more on importing external packages below\n",
    "\n",
    "class Point(object):\n",
    "    \n",
    "    def __init__(self, x, y):\n",
    "        self.x = x\n",
    "        self.y = y\n",
    "    \n",
    "    def norm(self):\n",
    "        'The distance of the point from the origin'\n",
    "        return sqrt(self.x**2 + self.y**2)\n",
    "    \n",
    "    def dist(self, other):\n",
    "        'The distance to another point'\n",
    "        dx = self.x - other.x\n",
    "        dy = self.y - other.y\n",
    "        return sqrt(dx**2 + dy**2)\n",
    "        \n",
    "    def __add__(self, other):\n",
    "        return Point(self.x + other.x, self.y + other.y)\n",
    "    \n",
    "    def __repr__(self):\n",
    "        return 'Point(%f, %f)' % (self.x, self.y)\n",
    "    \n",
    "\n",
    "p1 = Point(3.3, 4.)    # a point at location (3, 4)\n",
    "p2 = Point(6., 8.)    # another point, we can have as many as we want..\n",
    "\n",
    "res = p1.norm()\n",
    "print('p1.norm() = ', res)\n",
    "\n",
    "res = p2.norm()\n",
    "print('p2.norm() = ', res)\n",
    "\n",
    "res = p1.dist(p2)\n",
    "res2 = p2.dist(p1)\n",
    "print('The distance between p1 and p2 is', res)\n",
    "print('The distance between p2 and p1 is', res2)\n",
    "\n",
    "p3 = p1+p2\n",
    "p1\n"
   ]
  },
  {
   "cell_type": "markdown",
   "metadata": {},
   "source": [
    "Notice that we don't require `other` to be a `Point` class instance; it could be any object with `x` and `y` attributes. This is known as 'object composition' and is a useful approach for using multiple different kinds of objects with similar data in the same functions."
   ]
  },
  {
   "cell_type": "markdown",
   "metadata": {},
   "source": [
    "# L. Packages\n",
    "\n",
    "Functions and classes represent code that is intended to be reused over and over. Packages are a way to store and manage this code. Python has a number of 'built-in' classes and functions that we have discussed above. List, tuples and dictionaries; `for` and `while` loops; and standard data types are part of every python session.\n",
    "\n",
    "There is also a very wide range of packages that you can import that extend the abilities of core Python. There are packages that deal with file input and output, internet communication, numerical processing, etc. One of the nice features about Python is that you only import the packages you need, so that the memory footprint of your code remains lean. Also, there are ways to import code that keep your 'namespace' organized.\n",
    "\n",
    "> Namespaces are one honking great idea -- let's do more of those!\n",
    "\n",
    "In the same way directories keep your files organized on your computer, namespaces organize your Python environment. There are a number of ways to import packages, for example."
   ]
  },
  {
   "cell_type": "code",
   "execution_count": 79,
   "metadata": {},
   "outputs": [],
   "source": [
    "import math     # This imports the math function. Here 'math' is like a subdirectory \n",
    "                # in your namespace that holds all of the math functions"
   ]
  },
  {
   "cell_type": "code",
   "execution_count": 80,
   "metadata": {},
   "outputs": [
    {
     "name": "stdout",
     "output_type": "stream",
     "text": [
      "2.718281828459045 15.7\n"
     ]
    }
   ],
   "source": [
    "math.e\n",
    "e = 15.7\n",
    "print(math.e, e)"
   ]
  },
  {
   "cell_type": "markdown",
   "metadata": {},
   "source": [
    "---\n",
    "### *Exercise*\n",
    "\n",
    "> After importing the math package, type `math.` and hit <TAB> to see all the possible completions. These are the functions available in the math package. Use the math package to calculate the square root of 2.\n",
    "\n",
    "> There are a number of other ways to import things from the math package. Experiment with these commands\n",
    "\n",
    "    from math import tanh  # Import just the `tanh` function. Called as `tanh(x)`\n",
    "    import math as m       # Import the math package, but rename it to `m`. Functions called like `m.sin(x)`\n",
    "    from math import *     # All the functions imported to top level namespace. Functions called like `sin(x)`\n",
    "    \n",
    "> This last example makes things easier to use, but is frowned on as it is less clear where different functions come from.\n",
    "\n",
    "> For the rest of the 'Zen of Python' type `import this`\n",
    "\n",
    "---"
   ]
  },
  {
   "cell_type": "code",
   "execution_count": null,
   "metadata": {},
   "outputs": [],
   "source": []
  },
  {
   "cell_type": "markdown",
   "metadata": {},
   "source": [
    "One particular package that is central to scientific Python is the `numpy` package (*Num*erical *Py*thon). We will talk about this package much more in the future, but will outline a few things about the package now. The standard way to import this package is"
   ]
  },
  {
   "cell_type": "code",
   "execution_count": 81,
   "metadata": {},
   "outputs": [],
   "source": [
    "import numpy as np"
   ]
  },
  {
   "cell_type": "markdown",
   "metadata": {},
   "source": [
    "The `numpy` package has the same math functions as the `math` package, but these functions are designed to work with numpy arrays. Arrays are the backbone of the `numpy` package. For now, just think of them as homogeneous, multidimensional lists."
   ]
  },
  {
   "cell_type": "code",
   "execution_count": 82,
   "metadata": {},
   "outputs": [
    {
     "data": {
      "text/plain": [
       "array([[1., 2., 3.],\n",
       "       [4., 5., 6.]])"
      ]
     },
     "execution_count": 82,
     "metadata": {},
     "output_type": "execute_result"
    }
   ],
   "source": [
    "a = np.array([[1., 2., 3], [4., 5., 6.]])\n",
    "a"
   ]
  },
  {
   "cell_type": "code",
   "execution_count": 83,
   "metadata": {},
   "outputs": [
    {
     "data": {
      "text/plain": [
       "array([[ 0.84147098,  0.90929743,  0.14112001],\n",
       "       [-0.7568025 , -0.95892427, -0.2794155 ]])"
      ]
     },
     "execution_count": 83,
     "metadata": {},
     "output_type": "execute_result"
    }
   ],
   "source": [
    "np.sin(a)"
   ]
  },
  {
   "cell_type": "markdown",
   "metadata": {},
   "source": [
    "Note that we can have two `sin` functions at the same time, one from the `math` package and one from the `numpy` package. This is one of the advantages of namespaces."
   ]
  },
  {
   "cell_type": "code",
   "execution_count": 84,
   "metadata": {},
   "outputs": [
    {
     "data": {
      "text/plain": [
       "True"
      ]
     },
     "execution_count": 84,
     "metadata": {},
     "output_type": "execute_result"
    }
   ],
   "source": [
    "math.sin(2.0) == np.sin(2.0)"
   ]
  }
 ],
 "metadata": {
  "anaconda-cloud": {},
  "kernelspec": {
   "display_name": "Python 3",
   "language": "python",
   "name": "python3"
  },
  "language_info": {
   "codemirror_mode": {
    "name": "ipython",
    "version": 3
   },
   "file_extension": ".py",
   "mimetype": "text/x-python",
   "name": "python",
   "nbconvert_exporter": "python",
   "pygments_lexer": "ipython3",
   "version": "3.7.3"
  }
 },
 "nbformat": 4,
 "nbformat_minor": 1
}
