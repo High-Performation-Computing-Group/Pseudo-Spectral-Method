{
 "cells": [
  {
   "cell_type": "code",
   "execution_count": 1,
   "metadata": {},
   "outputs": [],
   "source": [
    "import numpy as np\n",
    "import matplotlib.pyplot as plt\n",
    "import scipy as sp"
   ]
  },
  {
   "cell_type": "markdown",
   "metadata": {},
   "source": [
    "# Basic"
   ]
  },
  {
   "cell_type": "markdown",
   "metadata": {},
   "source": [
    "## Optimization"
   ]
  },
  {
   "cell_type": "code",
   "execution_count": 2,
   "metadata": {},
   "outputs": [],
   "source": [
    "from scipy.optimize import minimize"
   ]
  },
  {
   "cell_type": "markdown",
   "metadata": {},
   "source": [
    "Minimize $f(x) = (x-3)^2$"
   ]
  },
  {
   "cell_type": "code",
   "execution_count": 3,
   "metadata": {},
   "outputs": [
    {
     "data": {
      "text/plain": [
       "array([2.99999999])"
      ]
     },
     "execution_count": 3,
     "metadata": {},
     "output_type": "execute_result"
    }
   ],
   "source": [
    "def f(x):\n",
    "    return (x-3)**2\n",
    "\n",
    "res = minimize(f, x0=2)\n",
    "res.x"
   ]
  },
  {
   "cell_type": "markdown",
   "metadata": {},
   "source": [
    "Minimize $f(x, y) = (x-1)^2 + (y-2.5)^2$ subject to\n",
    "\n",
    "$$x-2y+2 \\geq 0 $$\n",
    "$$-x-2y+6 \\geq 0$$\n",
    "$$-x + 2y + 2 \\geq 0$$\n",
    "$$x \\geq 0 $$\n",
    "$$y \\geq 0 $$\n",
    "\n",
    "<p align=\"center\">\n",
    "  <img src=\"../images/opt_reg.PNG\" alt=\"drawing\" width=\"300\" align=\"center\"/>\n",
    "</p>\n",
    "\n",
    "* 2D function takes in vector $x$\n",
    "* Constraints must be specified as $g_i(x) \\geq 0$\n",
    "* Bounds specified as rectangular "
   ]
  },
  {
   "cell_type": "code",
   "execution_count": 4,
   "metadata": {},
   "outputs": [],
   "source": [
    "f = lambda x: (x[0] - 1)**2 + (x[1] - 2.5)**2\n",
    "cons = ({'type': 'ineq', 'fun': lambda x:  x[0] - 2 * x[1] + 2},\n",
    "        {'type': 'ineq', 'fun': lambda x: -x[0] - 2 * x[1] + 6},\n",
    "        {'type': 'ineq', 'fun': lambda x: -x[0] + 2 * x[1] + 2})\n",
    "bnds = ((0, None), (0, None))\n",
    "res = minimize(f, (2, 0), bounds=bnds, constraints=cons)"
   ]
  },
  {
   "cell_type": "code",
   "execution_count": 5,
   "metadata": {},
   "outputs": [
    {
     "data": {
      "text/plain": [
       "array([1.4, 1.7])"
      ]
     },
     "execution_count": 5,
     "metadata": {},
     "output_type": "execute_result"
    }
   ],
   "source": [
    "res.x"
   ]
  },
  {
   "cell_type": "markdown",
   "metadata": {},
   "source": [
    "Note use of different techniques for different problems."
   ]
  },
  {
   "cell_type": "code",
   "execution_count": 6,
   "metadata": {},
   "outputs": [],
   "source": [
    "#minimize?"
   ]
  },
  {
   "cell_type": "markdown",
   "metadata": {},
   "source": [
    "## Interpolation"
   ]
  },
  {
   "cell_type": "markdown",
   "metadata": {},
   "source": [
    "Suppose you have the following data (I generate it here, but perhaps you collect $x$ and $y$ by means of some experiment)"
   ]
  },
  {
   "cell_type": "code",
   "execution_count": 7,
   "metadata": {},
   "outputs": [
    {
     "data": {
      "text/plain": [
       "<matplotlib.collections.PathCollection at 0x7fac9bd54220>"
      ]
     },
     "execution_count": 7,
     "metadata": {},
     "output_type": "execute_result"
    },
    {
     "data": {
      "image/png": "[encoded data removed]",
      "text/plain": [
       "<Figure size 432x288 with 1 Axes>"
      ]
     },
     "metadata": {
      "needs_background": "light"
     },
     "output_type": "display_data"
    }
   ],
   "source": [
    "x = np.linspace(0, 10, 10)\n",
    "y = x**2 * np.sin(x)\n",
    "plt.scatter(x,y)"
   ]
  },
  {
   "cell_type": "markdown",
   "metadata": {},
   "source": [
    "You want to know the values in between."
   ]
  },
  {
   "cell_type": "code",
   "execution_count": 8,
   "metadata": {},
   "outputs": [],
   "source": [
    "from scipy.interpolate import interp1d"
   ]
  },
  {
   "cell_type": "code",
   "execution_count": 9,
   "metadata": {},
   "outputs": [],
   "source": [
    "f = interp1d(x, y, kind='cubic')\n",
    "x_dense = np.linspace(0, 10, 100)\n",
    "y_dense = f(x_dense)"
   ]
  },
  {
   "cell_type": "code",
   "execution_count": 10,
   "metadata": {},
   "outputs": [
    {
     "data": {
      "text/plain": [
       "<matplotlib.collections.PathCollection at 0x7fac93a21700>"
      ]
     },
     "execution_count": 10,
     "metadata": {},
     "output_type": "execute_result"
    },
    {
     "data": {
      "image/png": "[encoded data removed]",
      "text/plain": [
       "<Figure size 432x288 with 1 Axes>"
      ]
     },
     "metadata": {
      "needs_background": "light"
     },
     "output_type": "display_data"
    }
   ],
   "source": [
    "plt.plot(x_dense, y_dense)\n",
    "plt.scatter(x, y)"
   ]
  },
  {
   "cell_type": "markdown",
   "metadata": {},
   "source": [
    "## Curve Fitting"
   ]
  },
  {
   "cell_type": "markdown",
   "metadata": {},
   "source": [
    "Trivial Example"
   ]
  },
  {
   "cell_type": "code",
   "execution_count": 11,
   "metadata": {},
   "outputs": [],
   "source": [
    "x_data = np.linspace(0, 10, 10)\n",
    "y_data = 3*x_data**2 + 2"
   ]
  },
  {
   "cell_type": "code",
   "execution_count": 12,
   "metadata": {},
   "outputs": [
    {
     "data": {
      "text/plain": [
       "<matplotlib.collections.PathCollection at 0x7fac93a0bf70>"
      ]
     },
     "execution_count": 12,
     "metadata": {},
     "output_type": "execute_result"
    },
    {
     "data": {
      "image/png": "[encoded data removed]",
      "text/plain": [
       "<Figure size 432x288 with 1 Axes>"
      ]
     },
     "metadata": {
      "needs_background": "light"
     },
     "output_type": "display_data"
    }
   ],
   "source": [
    "plt.scatter(x_data, y_data)"
   ]
  },
  {
   "cell_type": "markdown",
   "metadata": {},
   "source": [
    "Want to fit the data to the curve $y = ax^2 + b$. The main goal here is determine the values of $a$ and $b$"
   ]
  },
  {
   "cell_type": "code",
   "execution_count": 13,
   "metadata": {},
   "outputs": [
    {
     "data": {
      "text/plain": [
       "array([3., 2.])"
      ]
     },
     "execution_count": 13,
     "metadata": {},
     "output_type": "execute_result"
    }
   ],
   "source": [
    "from scipy.optimize import curve_fit\n",
    "\n",
    "def func(x, a, b):\n",
    "    return a*x**2 + b\n",
    "popt, pcov = curve_fit(func, x_data, y_data, p0=(1,1))\n",
    "popt"
   ]
  },
  {
   "cell_type": "markdown",
   "metadata": {},
   "source": [
    "The equation for spring motion is $y(t) = A\\cos(\\omega t+\\phi)$. Want to find the natural frequency of oscillation $\\omega$ for the spring. You collect the data"
   ]
  },
  {
   "cell_type": "code",
   "execution_count": 14,
   "metadata": {},
   "outputs": [],
   "source": [
    "t_data = np.array([ 0.   ,  0.34482759,  0.68965517,  1.03448276,  1.37931034,\n",
    "        1.72413793,  2.06896552,  2.4137931 ,  2.75862069,  3.10344828,\n",
    "        3.44827586,  3.79310345,  4.13793103,  4.48275862,  4.82758621,\n",
    "        5.17241379,  5.51724138,  5.86206897,  6.20689655,  6.55172414,\n",
    "        6.89655172,  7.24137931,  7.5862069 ,  7.93103448,  8.27586207,\n",
    "        8.62068966,  8.96551724,  9.31034483,  9.65517241, 10.        ])\n",
    "y_data = np.array([ 4.3303953 ,  1.61137995, -2.15418696, -3.90137249, -1.67259042,\n",
    "        2.16884383,  3.86635998,  1.85194506, -1.8489224 , -3.96560495,\n",
    "       -2.13385255,  1.59425817,  4.06145238,  1.89300594, -1.76870297,\n",
    "       -4.26791226, -2.46874133,  1.37019912,  4.24945607,  2.27038039,\n",
    "       -1.50299303, -3.46774049, -2.50845488,  1.20022052,  3.81633703,\n",
    "        2.91511556, -1.24569189, -3.72716214, -2.54549857,  0.87262548])"
   ]
  },
  {
   "cell_type": "code",
   "execution_count": 15,
   "metadata": {},
   "outputs": [
    {
     "data": {
      "text/plain": [
       "[<matplotlib.lines.Line2D at 0x7fac93986400>]"
      ]
     },
     "execution_count": 15,
     "metadata": {},
     "output_type": "execute_result"
    },
    {
     "data": {
      "image/png": "[encoded data removed]",
      "text/plain": [
       "<Figure size 432x288 with 1 Axes>"
      ]
     },
     "metadata": {
      "needs_background": "light"
     },
     "output_type": "display_data"
    }
   ],
   "source": [
    "plt.plot(t_data,y_data,'o--')"
   ]
  },
  {
   "cell_type": "markdown",
   "metadata": {},
   "source": [
    "$\\omega = 2 \\pi f$, $f=1/T$, and $T \\approx 2$ seconds. Thus good initial guess is\n",
    "\n",
    "* $\\omega = 2 \\pi (1/2) = \\pi$\n",
    "* $A=4$\n",
    "* $\\phi = 0$"
   ]
  },
  {
   "cell_type": "code",
   "execution_count": 16,
   "metadata": {},
   "outputs": [
    {
     "data": {
      "text/plain": [
       "array([3.94836219, 2.9989952 , 0.10411352])"
      ]
     },
     "execution_count": 16,
     "metadata": {},
     "output_type": "execute_result"
    }
   ],
   "source": [
    "from scipy.optimize import curve_fit\n",
    "\n",
    "def func(x, A, w, phi):\n",
    "    return A*np.cos(w*x+phi)\n",
    "\n",
    "popt, pcov = curve_fit(func, t_data, y_data, p0=(4, np.pi, 0))\n",
    "popt"
   ]
  },
  {
   "cell_type": "code",
   "execution_count": 17,
   "metadata": {},
   "outputs": [],
   "source": [
    "A, w, phi = popt"
   ]
  },
  {
   "cell_type": "code",
   "execution_count": 18,
   "metadata": {},
   "outputs": [],
   "source": [
    "t = np.linspace(0, 10, 100)\n",
    "y = func(t, A, w, phi)"
   ]
  },
  {
   "cell_type": "code",
   "execution_count": 19,
   "metadata": {},
   "outputs": [
    {
     "data": {
      "text/plain": [
       "[<matplotlib.lines.Line2D at 0x7fac938ec3a0>]"
      ]
     },
     "execution_count": 19,
     "metadata": {},
     "output_type": "execute_result"
    },
    {
     "data": {
      "image/png": "[encoded data removed]",
      "text/plain": [
       "<Figure size 432x288 with 1 Axes>"
      ]
     },
     "metadata": {
      "needs_background": "light"
     },
     "output_type": "display_data"
    }
   ],
   "source": [
    "plt.scatter(t_data,y_data)\n",
    "plt.plot(t,y)"
   ]
  },
  {
   "cell_type": "markdown",
   "metadata": {},
   "source": [
    "The parameters"
   ]
  },
  {
   "cell_type": "code",
   "execution_count": 20,
   "metadata": {},
   "outputs": [
    {
     "data": {
      "text/plain": [
       "array([3.94836219, 2.9989952 , 0.10411352])"
      ]
     },
     "execution_count": 20,
     "metadata": {},
     "output_type": "execute_result"
    }
   ],
   "source": [
    "popt"
   ]
  },
  {
   "cell_type": "markdown",
   "metadata": {},
   "source": [
    "The estimated error on the parameters"
   ]
  },
  {
   "cell_type": "code",
   "execution_count": 21,
   "metadata": {},
   "outputs": [
    {
     "data": {
      "text/plain": [
       "array([0.05117448, 0.00430857, 0.02575702])"
      ]
     },
     "execution_count": 21,
     "metadata": {},
     "output_type": "execute_result"
    }
   ],
   "source": [
    "np.sqrt(np.diag(pcov))"
   ]
  },
  {
   "cell_type": "markdown",
   "metadata": {},
   "source": [
    "## Special Functions"
   ]
  },
  {
   "cell_type": "markdown",
   "metadata": {},
   "source": [
    "Legendre Polynomials $P_l(x)$: satisfy $(1-x^2)y'' -2xy'+l(l+1)y = 0$\n",
    "\n",
    "* The angular component of the spherical Schrodinger Equation which permits non-infinite solutions"
   ]
  },
  {
   "cell_type": "code",
   "execution_count": 22,
   "metadata": {},
   "outputs": [
    {
     "data": {
      "image/png": "[encoded data removed]",
      "text/plain": [
       "<Figure size 432x288 with 1 Axes>"
      ]
     },
     "metadata": {
      "needs_background": "light"
     },
     "output_type": "display_data"
    }
   ],
   "source": [
    "from scipy.special import legendre\n",
    "x = np.linspace(0, 1, 100)\n",
    "plt.plot(x, legendre(6)(x))\n",
    "plt.show()"
   ]
  },
  {
   "cell_type": "markdown",
   "metadata": {},
   "source": [
    "Bessel functions $J_{\\alpha}(x)$: satisfy $x^2 y'' + xy' + (x^2-\\alpha^2)y = 0$\n",
    "\n",
    "* Laplace's Equation in Polar Coordinates"
   ]
  },
  {
   "cell_type": "code",
   "execution_count": 23,
   "metadata": {},
   "outputs": [
    {
     "data": {
      "image/png": "[encoded data removed]",
      "text/plain": [
       "<Figure size 432x288 with 1 Axes>"
      ]
     },
     "metadata": {
      "needs_background": "light"
     },
     "output_type": "display_data"
    }
   ],
   "source": [
    "from scipy.special import jv\n",
    "x = np.linspace(0, 10, 100)\n",
    "plt.plot(x, jv(3,x))\n",
    "plt.show()"
   ]
  },
  {
   "cell_type": "markdown",
   "metadata": {},
   "source": [
    "# Calculus"
   ]
  },
  {
   "cell_type": "markdown",
   "metadata": {},
   "source": [
    "## Differentiation"
   ]
  },
  {
   "cell_type": "code",
   "execution_count": 24,
   "metadata": {},
   "outputs": [],
   "source": [
    "from scipy.misc import derivative"
   ]
  },
  {
   "cell_type": "code",
   "execution_count": 25,
   "metadata": {},
   "outputs": [],
   "source": [
    "def f(x):\n",
    "    return x**2 * np.sin(2*x) *np.exp(-x)\n",
    "x = np.linspace(0, 1, 100)"
   ]
  },
  {
   "cell_type": "code",
   "execution_count": 26,
   "metadata": {},
   "outputs": [
    {
     "data": {
      "image/png": "[encoded data removed]",
      "text/plain": [
       "<Figure size 432x288 with 1 Axes>"
      ]
     },
     "metadata": {
      "needs_background": "light"
     },
     "output_type": "display_data"
    }
   ],
   "source": [
    "plt.plot(x, f(x))\n",
    "plt.plot(x, derivative(f, x, dx=1e-6))\n",
    "plt.plot(x, derivative(f, x, dx=1e-6, n=2))\n",
    "plt.grid()"
   ]
  },
  {
   "cell_type": "markdown",
   "metadata": {},
   "source": [
    "## Integration"
   ]
  },
  {
   "cell_type": "markdown",
   "metadata": {},
   "source": [
    "Single integrals"
   ]
  },
  {
   "cell_type": "markdown",
   "metadata": {},
   "source": [
    "$$ \\int_0^{1} x^2 \\sin(2x) e^{-x} dx $$"
   ]
  },
  {
   "cell_type": "code",
   "execution_count": 27,
   "metadata": {},
   "outputs": [],
   "source": [
    "from scipy.integrate import quad\n",
    "integrand = lambda x: x**2 * np.sin(2*x) * np.exp(-x)\n",
    "integral, integral_error = quad(integrand, 0, 1)"
   ]
  },
  {
   "cell_type": "code",
   "execution_count": 28,
   "metadata": {},
   "outputs": [
    {
     "data": {
      "text/plain": [
       "0.14558175869954834"
      ]
     },
     "execution_count": 28,
     "metadata": {},
     "output_type": "execute_result"
    }
   ],
   "source": [
    "integral"
   ]
  },
  {
   "cell_type": "markdown",
   "metadata": {},
   "source": [
    "Double integrals\n",
    "\n",
    "$$ \\int_{0}^{1} \\int_{-x}^{x^2} \\sin(x+y^2) dy dx $$"
   ]
  },
  {
   "cell_type": "code",
   "execution_count": 29,
   "metadata": {},
   "outputs": [],
   "source": [
    "from scipy.integrate import dblquad\n",
    "integrand = lambda y, x: np.sin(x+y**2)\n",
    "lwr_y = lambda x: -x\n",
    "upr_y = lambda x: x**2\n",
    "integral, integral_error = dblquad(integrand, 0, 1, lwr_y, upr_y)"
   ]
  },
  {
   "cell_type": "code",
   "execution_count": 30,
   "metadata": {},
   "outputs": [
    {
     "data": {
      "text/plain": [
       "0.590090324408853"
      ]
     },
     "execution_count": 30,
     "metadata": {},
     "output_type": "execute_result"
    }
   ],
   "source": [
    "integral"
   ]
  },
  {
   "cell_type": "markdown",
   "metadata": {},
   "source": [
    "## Differetial Equations"
   ]
  },
  {
   "cell_type": "markdown",
   "metadata": {},
   "source": [
    "**First Order ODEs**\n",
    "\n",
    "Air friction while falling\n",
    "\n",
    "$$ v' - \\alpha v^2 + \\beta = 0 \\hspace{10mm} v(0) = 0$$"
   ]
  },
  {
   "cell_type": "code",
   "execution_count": 31,
   "metadata": {},
   "outputs": [],
   "source": [
    "from scipy.integrate import odeint"
   ]
  },
  {
   "cell_type": "markdown",
   "metadata": {},
   "source": [
    "All information about differential equation"
   ]
  },
  {
   "cell_type": "code",
   "execution_count": 32,
   "metadata": {},
   "outputs": [],
   "source": [
    "def dvdt(v, t):\n",
    "    return 3*v**2 - 5\n",
    "v0 = 0"
   ]
  },
  {
   "cell_type": "markdown",
   "metadata": {},
   "source": [
    "Solve differential equation"
   ]
  },
  {
   "cell_type": "code",
   "execution_count": 33,
   "metadata": {},
   "outputs": [],
   "source": [
    "t = np.linspace(0, 1, 100)\n",
    "sol = odeint(dvdt, v0, t)"
   ]
  },
  {
   "cell_type": "code",
   "execution_count": 34,
   "metadata": {},
   "outputs": [],
   "source": [
    "v_sol = sol.T[0]"
   ]
  },
  {
   "cell_type": "markdown",
   "metadata": {},
   "source": [
    "Plot"
   ]
  },
  {
   "cell_type": "code",
   "execution_count": 35,
   "metadata": {},
   "outputs": [
    {
     "data": {
      "text/plain": [
       "[<matplotlib.lines.Line2D at 0x7fac9384d7f0>]"
      ]
     },
     "execution_count": 35,
     "metadata": {},
     "output_type": "execute_result"
    },
    {
     "data": {
      "image/png": "[encoded data removed]",
      "text/plain": [
       "<Figure size 432x288 with 1 Axes>"
      ]
     },
     "metadata": {
      "needs_background": "light"
     },
     "output_type": "display_data"
    }
   ],
   "source": [
    "plt.plot(t, v_sol)"
   ]
  },
  {
   "cell_type": "markdown",
   "metadata": {},
   "source": [
    "**Coupled first order ODEs**\n",
    "\n",
    "$$ y_1' = y_1 + y_2^2 + 3x \\hspace{10mm} y_1(0)=0$$\n",
    "$$ y_2' = 3y_1 + y_2^3 - \\cos(x) \\hspace{10mm} y_2(0)=0$$\n",
    "\n",
    "Letting $S=(y_1, y_2)$ we need to write a function that returns $dS/dx = (dy_1/dx, dy_2/dx)$. The function $dS/dx$ can take in $S=(y_1, y_2)$ and $x$"
   ]
  },
  {
   "cell_type": "code",
   "execution_count": 36,
   "metadata": {},
   "outputs": [],
   "source": [
    "def dSdx(S, x):\n",
    "    y1, y2 = S\n",
    "    return [y1 + y2**2  + 3*x,\n",
    "           3*y1 + y2**3 - np.cos(x)]\n",
    "y1_0 = 0\n",
    "y2_0 = 0\n",
    "S_0 = (y1_0, y2_0)"
   ]
  },
  {
   "cell_type": "code",
   "execution_count": 37,
   "metadata": {},
   "outputs": [],
   "source": [
    "x = np.linspace(0, 1, 100)\n",
    "sol = odeint(dSdx, S_0, x)"
   ]
  },
  {
   "cell_type": "code",
   "execution_count": 38,
   "metadata": {},
   "outputs": [],
   "source": [
    "y1_sol = sol.T[0]\n",
    "y2_sol = sol.T[1]"
   ]
  },
  {
   "cell_type": "code",
   "execution_count": 39,
   "metadata": {},
   "outputs": [
    {
     "data": {
      "text/plain": [
       "[<matplotlib.lines.Line2D at 0x7fac9387c4f0>]"
      ]
     },
     "execution_count": 39,
     "metadata": {},
     "output_type": "execute_result"
    },
    {
     "data": {
      "image/png": "[encoded data removed]",
      "text/plain": [
       "<Figure size 432x288 with 1 Axes>"
      ]
     },
     "metadata": {
      "needs_background": "light"
     },
     "output_type": "display_data"
    }
   ],
   "source": [
    "plt.plot(x, y1_sol)\n",
    "plt.plot(x, y2_sol)"
   ]
  },
  {
   "cell_type": "markdown",
   "metadata": {},
   "source": [
    "**Second Order ODEs**\n",
    "\n",
    "Equation for a pendulum\n",
    "\n",
    "$$\\theta'' - \\sin(\\theta) = 0$$\n",
    "\n",
    "Scipy can only solve coupled first order ODEs, but **any second order ODE can be turned into two coupled first order ODEs**. The same thing goes for higher order ODEs. \n",
    "\n",
    "Define $\\omega = d\\theta/dt$ so that one has the following coupled ODEs\n",
    "\n",
    "$$d \\omega / dt = \\sin(\\theta)$$\n",
    "$$d \\theta / dt = \\omega $$\n",
    "\n",
    "Let $S = (\\theta, \\omega)$"
   ]
  },
  {
   "cell_type": "code",
   "execution_count": 40,
   "metadata": {},
   "outputs": [],
   "source": [
    "def dSdt(S, t):\n",
    "    theta, omega = S\n",
    "    return [omega,\n",
    "           np.sin(theta)]\n",
    "theta0 = np.pi/4\n",
    "omega0 = 0\n",
    "S0 = (theta0, omega0)"
   ]
  },
  {
   "cell_type": "code",
   "execution_count": 41,
   "metadata": {},
   "outputs": [],
   "source": [
    "t = np.linspace(0, 20, 100)\n",
    "sol = odeint(dSdt, S0, t)\n",
    "theta, omega = sol.T"
   ]
  },
  {
   "cell_type": "code",
   "execution_count": 42,
   "metadata": {},
   "outputs": [
    {
     "data": {
      "image/png": "[encoded data removed]",
      "text/plain": [
       "<Figure size 432x288 with 1 Axes>"
      ]
     },
     "metadata": {
      "needs_background": "light"
     },
     "output_type": "display_data"
    }
   ],
   "source": [
    "plt.plot(t, theta)\n",
    "plt.show()"
   ]
  },
  {
   "cell_type": "markdown",
   "metadata": {},
   "source": [
    "## Fourier Transforms"
   ]
  },
  {
   "cell_type": "markdown",
   "metadata": {},
   "source": [
    "The discrete Fourier transform is defined as\n",
    "\n",
    "$$y[k] = \\sum_{n=0}^{N-1} e^{-2 \\pi i n (k / N)} x[n] $$\n",
    "\n",
    "* $k/N$ represents a specific frequency (dimensionless)\n",
    "* can be converted to a frequency (Hz) if you know the spacing in $x$"
   ]
  },
  {
   "cell_type": "code",
   "execution_count": 43,
   "metadata": {},
   "outputs": [
    {
     "data": {
      "text/plain": [
       "[<matplotlib.lines.Line2D at 0x7fac93662d30>]"
      ]
     },
     "execution_count": 43,
     "metadata": {},
     "output_type": "execute_result"
    },
    {
     "data": {
      "image/png": "[encoded data removed]",
      "text/plain": [
       "<Figure size 432x288 with 1 Axes>"
      ]
     },
     "metadata": {
      "needs_background": "light"
     },
     "output_type": "display_data"
    }
   ],
   "source": [
    "x = np.linspace(0, 10*np.pi, 100)\n",
    "y = np.sin(2*np.pi*x) + np.sin(4*np.pi*x) + 0.1*np.random.randn(len(x))\n",
    "plt.plot(x, y)"
   ]
  },
  {
   "cell_type": "code",
   "execution_count": 44,
   "metadata": {},
   "outputs": [],
   "source": [
    "from scipy.fft import fft, fftfreq\n",
    "N = len(y)\n",
    "yf = fft(y)[:N//2]\n",
    "xf = fftfreq(N, np.diff(x)[0])[:N//2]"
   ]
  },
  {
   "cell_type": "code",
   "execution_count": 45,
   "metadata": {},
   "outputs": [
    {
     "data": {
      "image/png": "[encoded data removed]",
      "text/plain": [
       "<Figure size 432x288 with 1 Axes>"
      ]
     },
     "metadata": {
      "needs_background": "light"
     },
     "output_type": "display_data"
    }
   ],
   "source": [
    "plt.plot(xf, np.abs(yf))\n",
    "plt.show()"
   ]
  },
  {
   "cell_type": "markdown",
   "metadata": {},
   "source": [
    "# Examples"
   ]
  },
  {
   "cell_type": "markdown",
   "metadata": {},
   "source": [
    "**Example 1**. The energy required to get from point $\\vec{r}_1$ to point $\\vec{r}_2$ for a plane is given by\n",
    "\n",
    "$$ E = \\alpha \\int_{C} \\left| \\frac{d\\vec{r}}{dt} \\right| dt - \\int_C \\vec{F} \\cdot \\frac{d\\vec{r}}{dt}dt $$\n",
    "\n",
    "Suppose that $\\alpha=5$ and our start and ends points are $\\vec{r}_1 = (0,0)$ and $\\vec{r}_2 = (0, 10)$. On this particular day, the wind produces a force field $\\vec{F} = (0, -2/(x+1)^2)$. Find the optimal value of $A$ in $\\vec{r}(t) = A\\sin(\\pi t/10)\\hat{x} + t\\hat{y}$ that minimizes the work. \n",
    "\n",
    "Then $x=A\\sin(\\pi t/10)$, $y=t$, and\n",
    "\n",
    "$$\\left| \\frac{d\\vec{r}}{dt} \\right| = \\sqrt{1+(\\pi A /10)^2 \\cos^2(\\pi t/10)}$$\n",
    "\n",
    "$$\\vec{F} \\cdot d\\vec{r} = \\begin{bmatrix} 0 \\\\ -2/(A\\sin(\\pi t/10) +1)^2\\\\ \\end{bmatrix} \\cdot \\begin{bmatrix} \\pi A/10 \\cos(\\pi t/10)\\\\ 1\\\\ \\end{bmatrix} = -2/(A\\sin(\\pi t/10) +1)^2 $$\n",
    "\n",
    "so that\n",
    "\n",
    "$$ E = \\int_{0}^{10} \\left(5\\sqrt{1+(\\pi A /10)^2 \\cos^2(\\pi t/10)} + \\frac{2}{(A\\sin(\\pi t/10) +100)^2}  \\right) dt$$"
   ]
  },
  {
   "cell_type": "code",
   "execution_count": 46,
   "metadata": {},
   "outputs": [
    {
     "data": {
      "text/plain": [
       "array([1.42591231])"
      ]
     },
     "execution_count": 46,
     "metadata": {},
     "output_type": "execute_result"
    }
   ],
   "source": [
    "def f(A): \n",
    "    integrand = lambda t: 2 / (1 + np.abs(A*np.sin(np.pi*t/10)))**2 + 5*np.sqrt(1+(np.pi*A/10)**2 * np.cos(np.pi * t / 10)**2)\n",
    "    return quad(integrand, 0, 10)[0]\n",
    "\n",
    "minimize(f, 0.001, method=\"CG\").x"
   ]
  },
  {
   "cell_type": "markdown",
   "metadata": {},
   "source": [
    "**Example 2**: Newton's law of cooling is\n",
    "\n",
    "$$\\frac{dT}{dt} = -k(T-T_s(t)) $$\n",
    "\n",
    "where $T$ is the temperature of an object in the surroundings with temperature $T_s(t)$ (which may depend on time). Suppose $T$ represents the temperature of a shallow pool of water and $T_s(t)$ represents the temperature of outside. Find $T(t)$ given that you collected measurements of the outside:\n",
    "\n"
   ]
  },
  {
   "cell_type": "code",
   "execution_count": 47,
   "metadata": {},
   "outputs": [],
   "source": [
    "t_m = np.array([ 0.,  1.04347826,  2.08695652,  3.13043478,  4.17391304,\n",
    "        5.2173913 ,  6.26086957,  7.30434783,  8.34782609,  9.39130435,\n",
    "       10.43478261, 11.47826087, 12.52173913, 13.56521739, 14.60869565,\n",
    "       15.65217391, 16.69565217, 17.73913043, 18.7826087 , 19.82608696,\n",
    "       20.86956522, 21.91304348, 22.95652174, 24.        ])\n",
    "\n",
    "temp_m = np.array([283.2322975, 284.6945461, 286.2259041, 287.8603625, 289.6440635,\n",
    "       291.6187583, 293.7939994, 296.1148895, 298.4395788, 300.5430675,\n",
    "       302.1566609, 303.0363609, 303.0363609, 302.1566609, 300.5430675,\n",
    "       298.4395788, 296.1148895, 293.7939994, 291.6187583, 289.6440635,\n",
    "       287.8603625, 286.2259041, 284.6945461, 283.2322975])"
   ]
  },
  {
   "cell_type": "code",
   "execution_count": 48,
   "metadata": {},
   "outputs": [
    {
     "data": {
      "text/plain": [
       "Text(0, 0.5, 'Temperature [K]')"
      ]
     },
     "execution_count": 48,
     "metadata": {},
     "output_type": "execute_result"
    },
    {
     "data": {
      "image/png": "[encoded data removed]",
      "text/plain": [
       "<Figure size 432x288 with 1 Axes>"
      ]
     },
     "metadata": {
      "needs_background": "light"
     },
     "output_type": "display_data"
    }
   ],
   "source": [
    "plt.scatter(t_m, temp_m)\n",
    "plt.xlabel('Time [hour]')\n",
    "plt.ylabel('Temperature [K]')"
   ]
  },
  {
   "cell_type": "code",
   "execution_count": 49,
   "metadata": {},
   "outputs": [],
   "source": [
    "Ts = interp1d(t_m, temp_m, kind='cubic')"
   ]
  },
  {
   "cell_type": "code",
   "execution_count": 50,
   "metadata": {},
   "outputs": [],
   "source": [
    "def dTdt(T, t):\n",
    "    return -0.5*(T-Ts(t))\n",
    "\n",
    "times = np.linspace(1, 23, 1000)\n",
    "T0 = 284.6945461"
   ]
  },
  {
   "cell_type": "code",
   "execution_count": 51,
   "metadata": {},
   "outputs": [],
   "source": [
    "sol = odeint(dTdt, T0, times).T[0]"
   ]
  },
  {
   "cell_type": "code",
   "execution_count": 53,
   "metadata": {},
   "outputs": [
    {
     "data": {
      "text/plain": [
       "<matplotlib.legend.Legend at 0x7fac931f7790>"
      ]
     },
     "execution_count": 53,
     "metadata": {},
     "output_type": "execute_result"
    },
    {
     "data": {
      "image/png": "[encoded data removed]",
      "text/plain": [
       "<Figure size 432x288 with 1 Axes>"
      ]
     },
     "metadata": {
      "needs_background": "light"
     },
     "output_type": "display_data"
    }
   ],
   "source": [
    "plt.plot(times, sol, label='Shallow Water temp')\n",
    "plt.scatter(t_m, temp_m, color='r', label='Outside Temp')\n",
    "plt.legend()"
   ]
  },
  {
   "cell_type": "markdown",
   "metadata": {},
   "source": [
    "# Linear Algebra"
   ]
  },
  {
   "cell_type": "markdown",
   "metadata": {},
   "source": [
    "## Basics"
   ]
  },
  {
   "cell_type": "markdown",
   "metadata": {},
   "source": [
    "Triangular matrices\n",
    "\n",
    "$$ \\begin{bmatrix} 3 & 0 & 0 & 0\\\\ 2 & 1 & 0 & 0 \\\\ 1 & 0 & 1 & 0 \\\\ 1 & 1 & 1 & 1 \\end{bmatrix} \\vec{x} = \\begin{bmatrix} 4\\\\2\\\\4\\\\2 \\end{bmatrix} $$"
   ]
  },
  {
   "cell_type": "code",
   "execution_count": 54,
   "metadata": {},
   "outputs": [
    {
     "data": {
      "text/plain": [
       "array([ 1.33333333, -0.66666667,  2.66666667, -1.33333333])"
      ]
     },
     "execution_count": 54,
     "metadata": {},
     "output_type": "execute_result"
    }
   ],
   "source": [
    "from scipy.linalg import solve_triangular\n",
    "a = np.array([[3, 0, 0, 0],\n",
    "              [2, 1, 0, 0],\n",
    "              [1, 0, 1, 0],\n",
    "              [1, 1, 1, 1]])\n",
    "b = np.array([4, 2, 4, 2])\n",
    "x = solve_triangular(a, b, lower=True)\n",
    "x"
   ]
  },
  {
   "cell_type": "markdown",
   "metadata": {},
   "source": [
    "Toeplitz Matrices (matrices with constant diagonals)"
   ]
  },
  {
   "cell_type": "markdown",
   "metadata": {},
   "source": [
    "$$ \\begin{bmatrix} 1 & -1 & 2 & 3\\\\ 3 & 1 & -1 & 2 \\\\ 6 & 3 & 1 & -1 \\\\ 10 & 6 & 3 & 1 \\end{bmatrix} \\vec{x} = \\begin{bmatrix} 1\\\\2\\\\2\\\\5 \\end{bmatrix} $$"
   ]
  },
  {
   "cell_type": "code",
   "execution_count": 55,
   "metadata": {},
   "outputs": [
    {
     "data": {
      "text/plain": [
       "array([ 1.66666667, -1.        , -2.66666667,  2.33333333])"
      ]
     },
     "execution_count": 55,
     "metadata": {},
     "output_type": "execute_result"
    }
   ],
   "source": [
    "from scipy.linalg import solve_toeplitz, toeplitz\n",
    "\n",
    "c = np.array([1, 3, 6, 10])    # First column of T\n",
    "r = np.array([1, -1, -2, -3])  # First row of T\n",
    "b = np.array([1, 2, 2, 5])\n",
    "\n",
    "x = solve_toeplitz((c, r), b)\n",
    "x"
   ]
  },
  {
   "cell_type": "markdown",
   "metadata": {},
   "source": [
    "## Eigenvalue Problems"
   ]
  },
  {
   "cell_type": "markdown",
   "metadata": {},
   "source": [
    "Eigenvalue problems can be solved using numpy, so here we focus on particular cases for optimization"
   ]
  },
  {
   "cell_type": "code",
   "execution_count": 56,
   "metadata": {},
   "outputs": [],
   "source": [
    "from scipy.linalg import eigh_tridiagonal"
   ]
  },
  {
   "cell_type": "markdown",
   "metadata": {},
   "source": [
    "$$ \\begin{bmatrix} 3 & -1 & 0 & 0\\\\ -1 & 3 & -1 & 0 \\\\ 0 & -1 & 3 & -1 \\\\ 0 & 0 & -1 & 3 \\end{bmatrix} \\vec{x} = \\lambda x $$"
   ]
  },
  {
   "cell_type": "code",
   "execution_count": 57,
   "metadata": {},
   "outputs": [],
   "source": [
    "d = 3*np.ones(4)\n",
    "e = -1*np.ones(3)\n",
    "w, v = eigh_tridiagonal(d, e)"
   ]
  },
  {
   "cell_type": "code",
   "execution_count": 58,
   "metadata": {},
   "outputs": [
    {
     "data": {
      "text/plain": [
       "array([[ 3., -1.,  0.,  0.],\n",
       "       [-1.,  3., -1.,  0.],\n",
       "       [ 0., -1.,  3., -1.],\n",
       "       [ 0.,  0., -1.,  3.]])"
      ]
     },
     "execution_count": 58,
     "metadata": {},
     "output_type": "execute_result"
    }
   ],
   "source": [
    "A = np.diag(d) + np.diag(e, k=1) + np.diag(e, k=-1)\n",
    "A"
   ]
  },
  {
   "cell_type": "code",
   "execution_count": 59,
   "metadata": {},
   "outputs": [
    {
     "data": {
      "text/plain": [
       "array([0.51374315, 0.83125388, 0.83125388, 0.51374315])"
      ]
     },
     "execution_count": 59,
     "metadata": {},
     "output_type": "execute_result"
    }
   ],
   "source": [
    "A@v.T[0]"
   ]
  },
  {
   "cell_type": "code",
   "execution_count": 60,
   "metadata": {},
   "outputs": [
    {
     "data": {
      "text/plain": [
       "array([0.51374315, 0.83125388, 0.83125388, 0.51374315])"
      ]
     },
     "execution_count": 60,
     "metadata": {},
     "output_type": "execute_result"
    }
   ],
   "source": [
    "w[0] * v.T[0]"
   ]
  },
  {
   "cell_type": "markdown",
   "metadata": {},
   "source": [
    "## Special Matrices"
   ]
  },
  {
   "cell_type": "markdown",
   "metadata": {},
   "source": [
    "Fiedler matrix $A_{ij} = |a_i - a_j|$ where $a_i$ is some sequence of numbers"
   ]
  },
  {
   "cell_type": "code",
   "execution_count": 61,
   "metadata": {},
   "outputs": [
    {
     "data": {
      "text/plain": [
       "array([[ 0,  3, 11, 44],\n",
       "       [ 3,  0,  8, 41],\n",
       "       [11,  8,  0, 33],\n",
       "       [44, 41, 33,  0]])"
      ]
     },
     "execution_count": 61,
     "metadata": {},
     "output_type": "execute_result"
    }
   ],
   "source": [
    "from scipy.linalg import fiedler\n",
    "fiedler([1, 4, 12, 45])"
   ]
  },
  {
   "cell_type": "markdown",
   "metadata": {},
   "source": [
    "Toeplitz matrices (matrices with constant diagonals)"
   ]
  },
  {
   "cell_type": "code",
   "execution_count": 62,
   "metadata": {},
   "outputs": [
    {
     "data": {
      "text/plain": [
       "array([[1, 4, 5, 6, 0, 0],\n",
       "       [2, 1, 4, 5, 6, 0],\n",
       "       [3, 2, 1, 4, 5, 6],\n",
       "       [6, 3, 2, 1, 4, 5],\n",
       "       [0, 6, 3, 2, 1, 4],\n",
       "       [0, 0, 6, 3, 2, 1]])"
      ]
     },
     "execution_count": 62,
     "metadata": {},
     "output_type": "execute_result"
    }
   ],
   "source": [
    "from scipy.linalg import toeplitz\n",
    "toeplitz([1,2,3,6,0,0], [1,4,5,6,0,0])"
   ]
  },
  {
   "cell_type": "markdown",
   "metadata": {},
   "source": [
    "https://docs.scipy.org/doc/scipy/reference/linalg.html#special-matrices"
   ]
  },
  {
   "cell_type": "markdown",
   "metadata": {},
   "source": [
    "## Decompositions"
   ]
  },
  {
   "cell_type": "markdown",
   "metadata": {},
   "source": [
    "LU decomposition $A = PLU$ where $P$ is a permutation matrix, $L$ is a lower triangular matrix and $U$ is an upper triangular matrix."
   ]
  },
  {
   "cell_type": "code",
   "execution_count": 63,
   "metadata": {},
   "outputs": [],
   "source": [
    "from scipy.linalg import lu\n",
    "A = np.array([[2, 5, 8, 7], [5, 2, 2, 8], [7, 5, 6, 6], [5, 4, 4, 8]])\n",
    "p, l, u = lu(A)"
   ]
  },
  {
   "cell_type": "markdown",
   "metadata": {},
   "source": [
    "Choleski decomposition: find matrix $C$ such that $A = CC^T$"
   ]
  },
  {
   "cell_type": "code",
   "execution_count": 64,
   "metadata": {},
   "outputs": [],
   "source": [
    "from scipy.linalg import cholesky\n",
    "A = np.array([[1,0.2],[0.2,1]])\n",
    "C = cholesky(A, lower=True)"
   ]
  },
  {
   "cell_type": "code",
   "execution_count": 65,
   "metadata": {},
   "outputs": [
    {
     "data": {
      "text/plain": [
       "array([[1.       , 0.       ],\n",
       "       [0.2      , 0.9797959]])"
      ]
     },
     "execution_count": 65,
     "metadata": {},
     "output_type": "execute_result"
    }
   ],
   "source": [
    "C"
   ]
  },
  {
   "cell_type": "code",
   "execution_count": 66,
   "metadata": {},
   "outputs": [
    {
     "data": {
      "text/plain": [
       "array([[1. , 0.2],\n",
       "       [0.2, 1. ]])"
      ]
     },
     "execution_count": 66,
     "metadata": {},
     "output_type": "execute_result"
    }
   ],
   "source": [
    "C@C.T"
   ]
  },
  {
   "cell_type": "code",
   "execution_count": 67,
   "metadata": {},
   "outputs": [
    {
     "data": {
      "text/plain": [
       "array([[1. , 0.2],\n",
       "       [0.2, 1. ]])"
      ]
     },
     "execution_count": 67,
     "metadata": {},
     "output_type": "execute_result"
    }
   ],
   "source": [
    "A"
   ]
  },
  {
   "cell_type": "markdown",
   "metadata": {},
   "source": [
    "## Sparse Matrices"
   ]
  },
  {
   "cell_type": "markdown",
   "metadata": {},
   "source": [
    "Matrices that contain lots of zeros (so lots of space can be reduced)\n",
    "\n",
    "**A Useful Example**:\n",
    "\n",
    "The second derivative of $f(x_i) \\equiv f_i$ is approximated as $\\frac{d^2 f_i}{dx^2} \\approx \\frac{f_{i+1}+f_{i-1}-2f_i}{\\Delta x^2}$. Suppose we have $f_0, ... f_4$ and $f_0=f_4=0$ (boundary conditions). Then the second derivative is approximated as \n",
    "\n",
    "$$ D \\begin{bmatrix} f_1 \\\\ f_2 \\\\ f_3\\end{bmatrix} \\hspace{10mm} \\text{where} \\hspace{2mm} D = \\frac{1}{\\Delta x^2}\\begin{bmatrix} -2 & 1 & 0 \\\\ 1 & -2 & 1 \\\\ 0 & 1 & -2 \\end{bmatrix} $$\n",
    "\n",
    "In 2D our function can be discretized on a grid\n",
    "\n",
    "$$\\begin{bmatrix} 0 & 0 & 0 & 0 & 0 \\\\ 0 & f_{11} & f_{12} & f_{13} & 0 \\\\ 0 & f_{21} & f_{22} & f_{23} & 0 \\\\ 0 & f_{31} & f_{32} & f_{33} & 0 \\\\ 0 & 0 & 0 & 0 & 0 \\end{bmatrix} $$\n",
    "\n",
    "but when doing this sort of work, its always better to store information in a vector\n",
    "\n",
    "$$\\begin{bmatrix} 0 & 0 & 0 & 0 & 0 \\\\ 0 & f_{11} & f_{12} & f_{13} & 0 \\\\ 0 & f_{21} & f_{22} & f_{23} & 0 \\\\ 0 & f_{31} & f_{32} & f_{33} & 0 \\\\ 0 & 0 & 0 & 0 & 0 \\end{bmatrix} \\to \\begin{bmatrix} f_{11} \\\\ f_{12} \\\\ f_{13} \\\\ f_{21} \\\\ f_{22} \\\\ f_{23} \\\\ f_{31} \\\\ f_{32} \\\\ f_{33} \\end{bmatrix}$$\n",
    "\n",
    "What does the 2D laplacian look like? It turns out it is the \"Kroncker sum\" of our original matrix. The second derivative is given by\n",
    "\n",
    "$$(D \\oplus D) \\begin{bmatrix} f_{11} \\\\ f_{12} \\\\ f_{13} \\\\ f_{21} \\\\ f_{22} \\\\ f_{23} \\\\ f_{31} \\\\ f_{32} \\\\ f_{33} \\end{bmatrix} \\hspace{10mm} \\text{where} \\hspace{2mm} D = \\frac{1}{\\Delta x^2}\\begin{bmatrix} -2 & 1 & 0 \\\\ 1 & -2 & 1 \\\\ 0 & 1 & -2 \\end{bmatrix} $$\n",
    "\n",
    "Note that even though $D$ is 3x3, $D \\oplus D$ is 9x9."
   ]
  },
  {
   "cell_type": "code",
   "execution_count": 68,
   "metadata": {},
   "outputs": [
    {
     "data": {
      "text/plain": [
       "array([[-4.,  1.,  0.,  0.,  0.,  1.,  0.,  0.,  0.,  0.,  0.,  0.,  0.,\n",
       "         0.,  0.,  0.,  0.,  0.,  0.,  0.,  0.,  0.,  0.,  0.,  0.],\n",
       "       [ 1., -4.,  1.,  0.,  0.,  0.,  1.,  0.,  0.,  0.,  0.,  0.,  0.,\n",
       "         0.,  0.,  0.,  0.,  0.,  0.,  0.,  0.,  0.,  0.,  0.,  0.],\n",
       "       [ 0.,  1., -4.,  1.,  0.,  0.,  0.,  1.,  0.,  0.,  0.,  0.,  0.,\n",
       "         0.,  0.,  0.,  0.,  0.,  0.,  0.,  0.,  0.,  0.,  0.,  0.],\n",
       "       [ 0.,  0.,  1., -4.,  1.,  0.,  0.,  0.,  1.,  0.,  0.,  0.,  0.,\n",
       "         0.,  0.,  0.,  0.,  0.,  0.,  0.,  0.,  0.,  0.,  0.,  0.],\n",
       "       [ 0.,  0.,  0.,  1., -4.,  0.,  0.,  0.,  0.,  1.,  0.,  0.,  0.,\n",
       "         0.,  0.,  0.,  0.,  0.,  0.,  0.,  0.,  0.,  0.,  0.,  0.],\n",
       "       [ 1.,  0.,  0.,  0.,  0., -4.,  1.,  0.,  0.,  0.,  1.,  0.,  0.,\n",
       "         0.,  0.,  0.,  0.,  0.,  0.,  0.,  0.,  0.,  0.,  0.,  0.],\n",
       "       [ 0.,  1.,  0.,  0.,  0.,  1., -4.,  1.,  0.,  0.,  0.,  1.,  0.,\n",
       "         0.,  0.,  0.,  0.,  0.,  0.,  0.,  0.,  0.,  0.,  0.,  0.],\n",
       "       [ 0.,  0.,  1.,  0.,  0.,  0.,  1., -4.,  1.,  0.,  0.,  0.,  1.,\n",
       "         0.,  0.,  0.,  0.,  0.,  0.,  0.,  0.,  0.,  0.,  0.,  0.],\n",
       "       [ 0.,  0.,  0.,  1.,  0.,  0.,  0.,  1., -4.,  1.,  0.,  0.,  0.,\n",
       "         1.,  0.,  0.,  0.,  0.,  0.,  0.,  0.,  0.,  0.,  0.,  0.],\n",
       "       [ 0.,  0.,  0.,  0.,  1.,  0.,  0.,  0.,  1., -4.,  0.,  0.,  0.,\n",
       "         0.,  1.,  0.,  0.,  0.,  0.,  0.,  0.,  0.,  0.,  0.,  0.],\n",
       "       [ 0.,  0.,  0.,  0.,  0.,  1.,  0.,  0.,  0.,  0., -4.,  1.,  0.,\n",
       "         0.,  0.,  1.,  0.,  0.,  0.,  0.,  0.,  0.,  0.,  0.,  0.],\n",
       "       [ 0.,  0.,  0.,  0.,  0.,  0.,  1.,  0.,  0.,  0.,  1., -4.,  1.,\n",
       "         0.,  0.,  0.,  1.,  0.,  0.,  0.,  0.,  0.,  0.,  0.,  0.],\n",
       "       [ 0.,  0.,  0.,  0.,  0.,  0.,  0.,  1.,  0.,  0.,  0.,  1., -4.,\n",
       "         1.,  0.,  0.,  0.,  1.,  0.,  0.,  0.,  0.,  0.,  0.,  0.],\n",
       "       [ 0.,  0.,  0.,  0.,  0.,  0.,  0.,  0.,  1.,  0.,  0.,  0.,  1.,\n",
       "        -4.,  1.,  0.,  0.,  0.,  1.,  0.,  0.,  0.,  0.,  0.,  0.],\n",
       "       [ 0.,  0.,  0.,  0.,  0.,  0.,  0.,  0.,  0.,  1.,  0.,  0.,  0.,\n",
       "         1., -4.,  0.,  0.,  0.,  0.,  1.,  0.,  0.,  0.,  0.,  0.],\n",
       "       [ 0.,  0.,  0.,  0.,  0.,  0.,  0.,  0.,  0.,  0.,  1.,  0.,  0.,\n",
       "         0.,  0., -4.,  1.,  0.,  0.,  0.,  1.,  0.,  0.,  0.,  0.],\n",
       "       [ 0.,  0.,  0.,  0.,  0.,  0.,  0.,  0.,  0.,  0.,  0.,  1.,  0.,\n",
       "         0.,  0.,  1., -4.,  1.,  0.,  0.,  0.,  1.,  0.,  0.,  0.],\n",
       "       [ 0.,  0.,  0.,  0.,  0.,  0.,  0.,  0.,  0.,  0.,  0.,  0.,  1.,\n",
       "         0.,  0.,  0.,  1., -4.,  1.,  0.,  0.,  0.,  1.,  0.,  0.],\n",
       "       [ 0.,  0.,  0.,  0.,  0.,  0.,  0.,  0.,  0.,  0.,  0.,  0.,  0.,\n",
       "         1.,  0.,  0.,  0.,  1., -4.,  1.,  0.,  0.,  0.,  1.,  0.],\n",
       "       [ 0.,  0.,  0.,  0.,  0.,  0.,  0.,  0.,  0.,  0.,  0.,  0.,  0.,\n",
       "         0.,  1.,  0.,  0.,  0.,  1., -4.,  0.,  0.,  0.,  0.,  1.],\n",
       "       [ 0.,  0.,  0.,  0.,  0.,  0.,  0.,  0.,  0.,  0.,  0.,  0.,  0.,\n",
       "         0.,  0.,  1.,  0.,  0.,  0.,  0., -4.,  1.,  0.,  0.,  0.],\n",
       "       [ 0.,  0.,  0.,  0.,  0.,  0.,  0.,  0.,  0.,  0.,  0.,  0.,  0.,\n",
       "         0.,  0.,  0.,  1.,  0.,  0.,  0.,  1., -4.,  1.,  0.,  0.],\n",
       "       [ 0.,  0.,  0.,  0.,  0.,  0.,  0.,  0.,  0.,  0.,  0.,  0.,  0.,\n",
       "         0.,  0.,  0.,  0.,  1.,  0.,  0.,  0.,  1., -4.,  1.,  0.],\n",
       "       [ 0.,  0.,  0.,  0.,  0.,  0.,  0.,  0.,  0.,  0.,  0.,  0.,  0.,\n",
       "         0.,  0.,  0.,  0.,  0.,  1.,  0.,  0.,  0.,  1., -4.,  1.],\n",
       "       [ 0.,  0.,  0.,  0.,  0.,  0.,  0.,  0.,  0.,  0.,  0.,  0.,  0.,\n",
       "         0.,  0.,  0.,  0.,  0.,  0.,  1.,  0.,  0.,  0.,  1., -4.]])"
      ]
     },
     "execution_count": 68,
     "metadata": {},
     "output_type": "execute_result"
    }
   ],
   "source": [
    "from scipy.linalg import kron # kronecker product, NOT sum\n",
    "N= 5\n",
    "d = -2*np.ones(N)\n",
    "e = np.ones(N-1)\n",
    "D = np.diag(d) + np.diag(e, k=1) + np.diag(e, k=-1)\n",
    "D_kronsum = kron(D, np.identity(N)) + kron(np.identity(N),D)\n",
    "D_kronsum"
   ]
  },
  {
   "cell_type": "markdown",
   "metadata": {},
   "source": [
    "Too big for any reasonable calculation! But can use sparse matrices"
   ]
  },
  {
   "cell_type": "code",
   "execution_count": 69,
   "metadata": {},
   "outputs": [],
   "source": [
    "from scipy import sparse\n",
    "N=100\n",
    "diag = np.ones([N])\n",
    "diags = np.array([diag, -2*diag, diag])\n",
    "D = sparse.spdiags(diags, np.array([-1,0,1]), N, N)\n",
    "T = -1/2 * sparse.kronsum(D,D)"
   ]
  },
  {
   "cell_type": "code",
   "execution_count": 70,
   "metadata": {},
   "outputs": [
    {
     "data": {
      "text/plain": [
       "<10000x10000 sparse matrix of type '<class 'numpy.float64'>'\n",
       "\twith 49600 stored elements in Compressed Sparse Row format>"
      ]
     },
     "execution_count": 70,
     "metadata": {},
     "output_type": "execute_result"
    }
   ],
   "source": [
    "T"
   ]
  },
  {
   "cell_type": "markdown",
   "metadata": {},
   "source": [
    "See my 2D Schrodinger video for how I use this to construct eigenstates for arbitrary potentials!"
   ]
  },
  {
   "cell_type": "markdown",
   "metadata": {},
   "source": [
    "# Statistics"
   ]
  },
  {
   "cell_type": "markdown",
   "metadata": {},
   "source": [
    "**Example 1**: $\\beta$ distribution\n",
    "\n",
    "$$ f(x; a, b) = \\frac{\\Gamma(a+b)x^{a-1}(1-x)^{b-1}}{\\Gamma(a)\\Gamma(b)} \\hspace{20mm} 0 \\leq x \\leq 1$$"
   ]
  },
  {
   "cell_type": "code",
   "execution_count": 71,
   "metadata": {},
   "outputs": [],
   "source": [
    "from scipy.stats import beta"
   ]
  },
  {
   "cell_type": "markdown",
   "metadata": {},
   "source": [
    "Basic Statistics"
   ]
  },
  {
   "cell_type": "code",
   "execution_count": 72,
   "metadata": {},
   "outputs": [],
   "source": [
    "a, b = 2.5, 3.1\n",
    "mean, var, skew, kurt = beta.stats(a, b, moments='mvsk')"
   ]
  },
  {
   "cell_type": "markdown",
   "metadata": {},
   "source": [
    "Probability Distribution Plotting:"
   ]
  },
  {
   "cell_type": "code",
   "execution_count": 73,
   "metadata": {},
   "outputs": [
    {
     "data": {
      "text/plain": [
       "[<matplotlib.lines.Line2D at 0x7fac92ab8eb0>]"
      ]
     },
     "execution_count": 73,
     "metadata": {},
     "output_type": "execute_result"
    },
    {
     "data": {
      "image/png": "[encoded data removed]",
      "text/plain": [
       "<Figure size 432x288 with 1 Axes>"
      ]
     },
     "metadata": {
      "needs_background": "light"
     },
     "output_type": "display_data"
    }
   ],
   "source": [
    "x = np.linspace(beta.ppf(0, a, b), beta.ppf(1, a, b), 100)\n",
    "plt.plot(x, beta.pdf(x, a, b))"
   ]
  },
  {
   "cell_type": "markdown",
   "metadata": {},
   "source": [
    "Generating Random Variables:"
   ]
  },
  {
   "cell_type": "code",
   "execution_count": 74,
   "metadata": {},
   "outputs": [
    {
     "data": {
      "text/plain": [
       "array([0.36519221, 0.34611788, 0.69248154, 0.79559517, 0.35850385,\n",
       "       0.52820307, 0.59075396, 0.51043511, 0.48425268, 0.24519145])"
      ]
     },
     "execution_count": 74,
     "metadata": {},
     "output_type": "execute_result"
    }
   ],
   "source": [
    "r = beta.rvs(a, b, size=10)\n",
    "r"
   ]
  },
  {
   "cell_type": "markdown",
   "metadata": {},
   "source": [
    "**Example 2**: Gaussian Distribution\n",
    "\n",
    "$$ f(x; \\mu, \\sigma) = \\frac{1}{\\sqrt{2 \\pi \\sigma^2}} \\text{exp}\\left(-\\frac{(x-\\mu)^2}{\\sigma^2} \\right) \\hspace{20mm} -\\infty < x \\leq \\infty $$"
   ]
  },
  {
   "cell_type": "code",
   "execution_count": 75,
   "metadata": {},
   "outputs": [],
   "source": [
    "from scipy.stats import norm"
   ]
  },
  {
   "cell_type": "code",
   "execution_count": 76,
   "metadata": {},
   "outputs": [],
   "source": [
    "mu = 1\n",
    "sigma = 2\n",
    "mean, var = norm.stats(loc=mu, scale=sigma, moments='mv')"
   ]
  },
  {
   "cell_type": "code",
   "execution_count": 77,
   "metadata": {},
   "outputs": [
    {
     "data": {
      "text/plain": [
       "[<matplotlib.lines.Line2D at 0x7fac934ae8e0>]"
      ]
     },
     "execution_count": 77,
     "metadata": {},
     "output_type": "execute_result"
    },
    {
     "data": {
      "image/png": "[encoded data removed]",
      "text/plain": [
       "<Figure size 432x288 with 1 Axes>"
      ]
     },
     "metadata": {
      "needs_background": "light"
     },
     "output_type": "display_data"
    }
   ],
   "source": [
    "x = np.linspace(norm.ppf(0.01, mu, sigma), norm.ppf(0.99, mu, sigma), 100)\n",
    "plt.plot(x, norm.pdf(x, mu, sigma))"
   ]
  },
  {
   "cell_type": "markdown",
   "metadata": {},
   "source": [
    "**Example 3**: Multinomial Distribution\n",
    "\n",
    "$$ f(x_1, x_2, ..., x_k; p_1, p_2, ... p_k, n) = \\frac{n!}{x_1! ... x_k!}p_1^{x_1}p_2^{x_2}...p_k^{x_k}$$"
   ]
  },
  {
   "cell_type": "markdown",
   "metadata": {},
   "source": [
    "Rolling a die"
   ]
  },
  {
   "cell_type": "code",
   "execution_count": 78,
   "metadata": {},
   "outputs": [
    {
     "data": {
      "text/plain": [
       "2.143347050754453e-05"
      ]
     },
     "execution_count": 78,
     "metadata": {},
     "output_type": "execute_result"
    }
   ],
   "source": [
    "from scipy.stats import multinomial\n",
    "\n",
    "p = np.ones(6)/6\n",
    "multinomial.pmf([6,0,0,0,0,0], n=6, p=p)"
   ]
  },
  {
   "cell_type": "code",
   "execution_count": 79,
   "metadata": {},
   "outputs": [
    {
     "data": {
      "text/plain": [
       "array([[13, 28,  9, 20, 18, 12],\n",
       "       [19, 17, 13, 22, 14, 15],\n",
       "       [16, 13, 18, 19, 21, 13],\n",
       "       [18, 11, 19, 19, 11, 22],\n",
       "       [14, 14, 19, 16, 22, 15]])"
      ]
     },
     "execution_count": 79,
     "metadata": {},
     "output_type": "execute_result"
    }
   ],
   "source": [
    "multinomial.rvs(n=100, p=p, size=5)"
   ]
  },
  {
   "cell_type": "markdown",
   "metadata": {},
   "source": [
    "**Example 4**: Generating Random Numbers from your own distribution\n",
    "\n",
    "$$ f(x; a_1, a_2, b_1, b_2) = \\frac{1}{2(a_1b_1+a_2b_2)} \\left(b_1\\exp\\left(-\\sqrt{\\frac{x}{a_1}}\\right)+b_2\\exp\\left(-\\sqrt{\\frac{x}{a_2}}\\right)\\right) \\hspace{20mm} 0 \\leq x \\leq \\infty $$"
   ]
  },
  {
   "cell_type": "code",
   "execution_count": 80,
   "metadata": {},
   "outputs": [],
   "source": [
    "import scipy.stats as st\n",
    "\n",
    "class mr_p_solver_dist(st.rv_continuous):\n",
    "    def _pdf(self,x, a1, a2, b1, b2):\n",
    "        return 1/(2*(a1*b1+a2*b2))*(b1*np.exp(-np.sqrt(x/a1)) + b2*np.exp(-np.sqrt(x/a2)))\n",
    "my_rv = mr_p_solver_dist(a=0, b=np.inf)"
   ]
  },
  {
   "cell_type": "code",
   "execution_count": 81,
   "metadata": {},
   "outputs": [],
   "source": [
    "a1, a2, b1, b2 = 2, 3, 1, 2\n",
    "x = np.linspace(my_rv.ppf(0.01, a1, a2, b1, b2), my_rv.ppf(0.99, a1, a2, b1, b2), 100)\n",
    "y = my_rv.pdf(x, a1, a2, b1, b2)"
   ]
  },
  {
   "cell_type": "code",
   "execution_count": 82,
   "metadata": {},
   "outputs": [
    {
     "data": {
      "image/png": "[encoded data removed]",
      "text/plain": [
       "<Figure size 432x288 with 1 Axes>"
      ]
     },
     "metadata": {
      "needs_background": "light"
     },
     "output_type": "display_data"
    }
   ],
   "source": [
    "plt.plot(x, y)\n",
    "plt.semilogy()\n",
    "plt.show()"
   ]
  },
  {
   "cell_type": "code",
   "execution_count": 83,
   "metadata": {},
   "outputs": [
    {
     "data": {
      "text/plain": [
       "array([26.8323172 , 48.93544571, 10.41326459, 12.93854296,  1.26080927,\n",
       "       51.13633979,  1.41285272,  0.68021435,  3.23102047,  0.66236715])"
      ]
     },
     "execution_count": 83,
     "metadata": {},
     "output_type": "execute_result"
    }
   ],
   "source": [
    "my_rv.rvs(a1, a2, b1, b2, size=10)"
   ]
  },
  {
   "cell_type": "markdown",
   "metadata": {},
   "source": [
    "This is slow, so it is typical to define your own `_rvs` method in the variable class"
   ]
  },
  {
   "cell_type": "code",
   "execution_count": 84,
   "metadata": {},
   "outputs": [],
   "source": [
    "class mr_p_solver_dist(st.rv_continuous):\n",
    "    def _pdf(self,x, a1, a2, b1, b2):\n",
    "        return 1/(2*(a1*b1+a2*b2))*(b1*np.exp(-np.sqrt(x/a1)) + b2*np.exp(-np.sqrt(x/a2)))\n",
    "    def _cdf(self, x, a1, a2, b1, b2):\n",
    "        return 1/(2*(a1*b1+a2*b2))* ( -2*a1*b1*(np.sqrt(x/a1)+1)*np.exp(-np.sqrt(x/a1)) \\\n",
    "           -2*a2*b2*(np.sqrt(x/b2)+1)*np.exp(-np.sqrt(x/b2)) \\\n",
    "           + 2*a1*b1 + 2*a2*b2 )\n",
    "    def _rvs(self, a1, a2, b1, b2, delta=0.001, size=None, random_state=None):\n",
    "        a_min = min([a1, a2])\n",
    "        x = np.linspace(0, a_min*np.log(1/delta)**2, 10000)\n",
    "        r = np.random.rand(size)\n",
    "        return x[np.searchsorted(self._cdf(x[:-1], a1, a2, b1, b2), r)]"
   ]
  },
  {
   "cell_type": "code",
   "execution_count": 85,
   "metadata": {},
   "outputs": [
    {
     "data": {
      "text/plain": [
       "array([ 3.30235238, 95.43416599, 13.13305455, ..., 13.55300687,\n",
       "        0.60129538,  6.63333787])"
      ]
     },
     "execution_count": 85,
     "metadata": {},
     "output_type": "execute_result"
    }
   ],
   "source": [
    "my_rv = mr_p_solver_dist(a=0, b=np.inf)\n",
    "my_rv._rvs(a1, a2, b1, b2, size=10000)"
   ]
  }
 ],
 "metadata": {
  "kernelspec": {
   "display_name": "Python 3",
   "language": "python",
   "name": "python3"
  },
  "language_info": {
   "codemirror_mode": {
    "name": "ipython",
    "version": 3
   },
   "file_extension": ".py",
   "mimetype": "text/x-python",
   "name": "python",
   "nbconvert_exporter": "python",
   "pygments_lexer": "ipython3",
   "version": "3.8.5"
  }
 },
 "nbformat": 4,
 "nbformat_minor": 4
}
